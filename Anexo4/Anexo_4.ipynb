{
 "cells": [
  {
   "cell_type": "markdown",
   "id": "216f0a5e-8c95-4379-939a-dbbca5d1d71e",
   "metadata": {},
   "source": [
    "# 13 a 17 Datos Sin Inconsistencias "
   ]
  },
  {
   "cell_type": "code",
   "execution_count": 1,
   "id": "29dac3e5-acad-4a78-8371-86fc86932aa8",
   "metadata": {},
   "outputs": [],
   "source": [
    "from IPython.display import display\n",
    "\n",
    "import numpy as np\n",
    "import pandas as pd\n",
    "\n",
    "from matplotlib import pyplot as plt\n",
    "import seaborn as sns\n",
    "%matplotlib inline\n",
    "\n",
    "import warnings\n",
    "warnings.filterwarnings('ignore')"
   ]
  },
  {
   "cell_type": "code",
   "execution_count": 2,
   "id": "e8008645-472e-4917-bde7-58ca91f19465",
   "metadata": {},
   "outputs": [],
   "source": [
    "df = pd.read_csv('data/con_inconsistencias/general/full.csv')\n",
    "del df[\"Unnamed: 0\"]\n",
    "\n",
    "for element in ['fecha_reporte', 'fecha_evento', 'fecha_de_ultimo_avistamiento','fecha_de_ingreso',  'fecha_de_localizacion','fecha_probable_de_fallecimiento', 'fecha_de_nacimiento']:\n",
    "    df[element] = pd.to_datetime(df[element],errors=\"coerce\")"
   ]
  },
  {
   "cell_type": "code",
   "execution_count": 3,
   "id": "ddc11297-5b9d-48ea-9632-0ecdf492a0d2",
   "metadata": {},
   "outputs": [],
   "source": [
    "df = df[(df[\"edad\"] > 12) & (df[\"edad\"] < 18)].copy()"
   ]
  },
  {
   "cell_type": "code",
   "execution_count": 4,
   "id": "d987c7d4-d71c-4004-bc58-a3566bfeeed5",
   "metadata": {},
   "outputs": [],
   "source": [
    "df['year_reporte'] = df['fecha_reporte'].dt.year\n",
    "df['year_evento'] = df['fecha_evento'].dt.year\n",
    "df[\"dias_de_busqueda_reporte\"] = df[\"fecha_de_localizacion\"] - df[\"fecha_reporte\"]\n",
    "df[\"dias_de_busqueda_evento\"] = df[\"fecha_de_localizacion\"] - df[\"fecha_evento\"]\n",
    "df['year_birthday'] = df['fecha_de_nacimiento'].dt.year\n",
    "df[\"edad_calculada\"] = df[\"year_reporte\"] - df[\"year_birthday\"]\n",
    "df[\"dif_edad\"] = df[\"edad_calculada\"] - df[\"edad\"]\n",
    "df[\"tiempo_perdido\"] = df[\"fecha_reporte\"] - df[\"fecha_evento\"]"
   ]
  },
  {
   "cell_type": "code",
   "execution_count": 5,
   "id": "8cf585a8-ec57-4ae8-8e1e-804c60867d42",
   "metadata": {},
   "outputs": [
    {
     "data": {
      "text/html": [
       "<div>\n",
       "<style scoped>\n",
       "    .dataframe tbody tr th:only-of-type {\n",
       "        vertical-align: middle;\n",
       "    }\n",
       "\n",
       "    .dataframe tbody tr th {\n",
       "        vertical-align: top;\n",
       "    }\n",
       "\n",
       "    .dataframe thead th {\n",
       "        text-align: right;\n",
       "    }\n",
       "</style>\n",
       "<table border=\"1\" class=\"dataframe\">\n",
       "  <thead>\n",
       "    <tr style=\"text-align: right;\">\n",
       "      <th></th>\n",
       "      <th>0</th>\n",
       "      <th>3</th>\n",
       "      <th>5</th>\n",
       "      <th>6</th>\n",
       "      <th>7</th>\n",
       "      <th>8</th>\n",
       "      <th>11</th>\n",
       "      <th>15</th>\n",
       "      <th>16</th>\n",
       "      <th>17</th>\n",
       "      <th>...</th>\n",
       "      <th>99081</th>\n",
       "      <th>99084</th>\n",
       "      <th>99085</th>\n",
       "      <th>99087</th>\n",
       "      <th>99106</th>\n",
       "      <th>99113</th>\n",
       "      <th>99119</th>\n",
       "      <th>99123</th>\n",
       "      <th>99124</th>\n",
       "      <th>99127</th>\n",
       "    </tr>\n",
       "  </thead>\n",
       "  <tbody>\n",
       "    <tr>\n",
       "      <th>registro_nacional</th>\n",
       "      <td>desaparecido</td>\n",
       "      <td>desaparecido</td>\n",
       "      <td>desaparecido</td>\n",
       "      <td>desaparecido</td>\n",
       "      <td>desaparecido</td>\n",
       "      <td>desaparecido</td>\n",
       "      <td>desaparecido</td>\n",
       "      <td>desaparecido</td>\n",
       "      <td>desaparecido</td>\n",
       "      <td>desaparecido</td>\n",
       "      <td>...</td>\n",
       "      <td>desaparecido</td>\n",
       "      <td>desaparecido</td>\n",
       "      <td>desaparecido</td>\n",
       "      <td>desaparecido</td>\n",
       "      <td>desaparecido</td>\n",
       "      <td>desaparecido</td>\n",
       "      <td>desaparecido</td>\n",
       "      <td>desaparecido</td>\n",
       "      <td>desaparecido</td>\n",
       "      <td>desaparecido</td>\n",
       "    </tr>\n",
       "    <tr>\n",
       "      <th>fecha_reporte</th>\n",
       "      <td>2011-12-10 10:30:00</td>\n",
       "      <td>2012-02-01 11:41:00</td>\n",
       "      <td>2012-09-02 11:00:00</td>\n",
       "      <td>2012-10-02 11:20:00</td>\n",
       "      <td>2012-02-13 10:20:00</td>\n",
       "      <td>2012-02-21 02:00:00</td>\n",
       "      <td>2012-02-15 07:00:00</td>\n",
       "      <td>2012-10-02 11:30:00</td>\n",
       "      <td>2012-02-20 09:00:00</td>\n",
       "      <td>2012-03-24 11:45:00</td>\n",
       "      <td>...</td>\n",
       "      <td>2018-05-15 10:53:00</td>\n",
       "      <td>2018-10-04 12:00:00</td>\n",
       "      <td>2018-01-05 05:50:00</td>\n",
       "      <td>2018-04-25 12:00:00</td>\n",
       "      <td>2018-05-19 07:04:00</td>\n",
       "      <td>2018-05-25 02:00:00</td>\n",
       "      <td>2018-05-30 01:30:00</td>\n",
       "      <td>2018-05-15 08:48:00</td>\n",
       "      <td>2018-05-19 03:05:00</td>\n",
       "      <td>2018-04-25 03:00:00</td>\n",
       "    </tr>\n",
       "    <tr>\n",
       "      <th>fecha_evento</th>\n",
       "      <td>2009-09-02 02:30:00</td>\n",
       "      <td>2011-12-14 11:00:00</td>\n",
       "      <td>2012-06-02 12:00:00</td>\n",
       "      <td>2012-09-02 09:13:00</td>\n",
       "      <td>2012-11-02 11:00:00</td>\n",
       "      <td>2012-02-20 01:13:00</td>\n",
       "      <td>2012-02-14 04:30:00</td>\n",
       "      <td>2012-07-02 07:00:00</td>\n",
       "      <td>2012-02-20 01:13:00</td>\n",
       "      <td>2012-03-23 04:00:00</td>\n",
       "      <td>...</td>\n",
       "      <td>2018-05-14 02:30:00</td>\n",
       "      <td>2018-03-30 12:10:00</td>\n",
       "      <td>2018-04-27 08:30:00</td>\n",
       "      <td>2018-04-02 06:00:00</td>\n",
       "      <td>2018-05-17 01:40:00</td>\n",
       "      <td>2018-05-20 06:00:00</td>\n",
       "      <td>2018-05-20 11:00:00</td>\n",
       "      <td>2018-05-14 10:00:00</td>\n",
       "      <td>2018-05-18 01:40:00</td>\n",
       "      <td>2018-04-24 02:00:00</td>\n",
       "    </tr>\n",
       "    <tr>\n",
       "      <th>estado</th>\n",
       "      <td>tlaxcala</td>\n",
       "      <td>colima</td>\n",
       "      <td>colima</td>\n",
       "      <td>colima</td>\n",
       "      <td>colima</td>\n",
       "      <td>colima</td>\n",
       "      <td>colima</td>\n",
       "      <td>colima</td>\n",
       "      <td>colima</td>\n",
       "      <td>colima</td>\n",
       "      <td>...</td>\n",
       "      <td>puebla</td>\n",
       "      <td>nuevo_leon</td>\n",
       "      <td>aguascalientes</td>\n",
       "      <td>nuevo_leon</td>\n",
       "      <td>colima</td>\n",
       "      <td>puebla</td>\n",
       "      <td>puebla</td>\n",
       "      <td>aguascalientes</td>\n",
       "      <td>aguascalientes</td>\n",
       "      <td>guerrero</td>\n",
       "    </tr>\n",
       "    <tr>\n",
       "      <th>clave_estado</th>\n",
       "      <td>29</td>\n",
       "      <td>6</td>\n",
       "      <td>6</td>\n",
       "      <td>6</td>\n",
       "      <td>6</td>\n",
       "      <td>6</td>\n",
       "      <td>6</td>\n",
       "      <td>6</td>\n",
       "      <td>6</td>\n",
       "      <td>6</td>\n",
       "      <td>...</td>\n",
       "      <td>NaN</td>\n",
       "      <td>NaN</td>\n",
       "      <td>NaN</td>\n",
       "      <td>NaN</td>\n",
       "      <td>NaN</td>\n",
       "      <td>NaN</td>\n",
       "      <td>NaN</td>\n",
       "      <td>NaN</td>\n",
       "      <td>NaN</td>\n",
       "      <td>NaN</td>\n",
       "    </tr>\n",
       "    <tr>\n",
       "      <th>...</th>\n",
       "      <td>...</td>\n",
       "      <td>...</td>\n",
       "      <td>...</td>\n",
       "      <td>...</td>\n",
       "      <td>...</td>\n",
       "      <td>...</td>\n",
       "      <td>...</td>\n",
       "      <td>...</td>\n",
       "      <td>...</td>\n",
       "      <td>...</td>\n",
       "      <td>...</td>\n",
       "      <td>...</td>\n",
       "      <td>...</td>\n",
       "      <td>...</td>\n",
       "      <td>...</td>\n",
       "      <td>...</td>\n",
       "      <td>...</td>\n",
       "      <td>...</td>\n",
       "      <td>...</td>\n",
       "      <td>...</td>\n",
       "      <td>...</td>\n",
       "    </tr>\n",
       "    <tr>\n",
       "      <th>dias_de_busqueda_evento</th>\n",
       "      <td>NaT</td>\n",
       "      <td>22 days 01:00:00</td>\n",
       "      <td>94 days 13:25:00</td>\n",
       "      <td>-199 days +00:47:00</td>\n",
       "      <td>103 days 01:00:00</td>\n",
       "      <td>3 days 10:47:00</td>\n",
       "      <td>1 days 04:30:00</td>\n",
       "      <td>-138 days +05:00:00</td>\n",
       "      <td>3 days 10:47:00</td>\n",
       "      <td>1 days 08:00:00</td>\n",
       "      <td>...</td>\n",
       "      <td>2 days 01:30:00</td>\n",
       "      <td>-6664 days +23:50:00</td>\n",
       "      <td>-54 days +22:43:00</td>\n",
       "      <td>-6666 days +06:00:00</td>\n",
       "      <td>-6711 days +10:20:00</td>\n",
       "      <td>-6714 days +06:00:00</td>\n",
       "      <td>-6714 days +01:00:00</td>\n",
       "      <td>1 days 16:30:00</td>\n",
       "      <td>2 days 02:20:00</td>\n",
       "      <td>5 days 09:07:00</td>\n",
       "    </tr>\n",
       "    <tr>\n",
       "      <th>year_birthday</th>\n",
       "      <td>1995.0</td>\n",
       "      <td>1996.0</td>\n",
       "      <td>1997.0</td>\n",
       "      <td>1997.0</td>\n",
       "      <td>NaN</td>\n",
       "      <td>2000.0</td>\n",
       "      <td>2000.0</td>\n",
       "      <td>2000.0</td>\n",
       "      <td>2000.0</td>\n",
       "      <td>NaN</td>\n",
       "      <td>...</td>\n",
       "      <td>2004.0</td>\n",
       "      <td>2002.0</td>\n",
       "      <td>2003.0</td>\n",
       "      <td>2003.0</td>\n",
       "      <td>2003.0</td>\n",
       "      <td>2004.0</td>\n",
       "      <td>2000.0</td>\n",
       "      <td>2003.0</td>\n",
       "      <td>2003.0</td>\n",
       "      <td>2002.0</td>\n",
       "    </tr>\n",
       "    <tr>\n",
       "      <th>edad_calculada</th>\n",
       "      <td>16.0</td>\n",
       "      <td>16.0</td>\n",
       "      <td>15.0</td>\n",
       "      <td>15.0</td>\n",
       "      <td>NaN</td>\n",
       "      <td>12.0</td>\n",
       "      <td>12.0</td>\n",
       "      <td>12.0</td>\n",
       "      <td>12.0</td>\n",
       "      <td>NaN</td>\n",
       "      <td>...</td>\n",
       "      <td>14.0</td>\n",
       "      <td>16.0</td>\n",
       "      <td>15.0</td>\n",
       "      <td>15.0</td>\n",
       "      <td>15.0</td>\n",
       "      <td>14.0</td>\n",
       "      <td>18.0</td>\n",
       "      <td>15.0</td>\n",
       "      <td>15.0</td>\n",
       "      <td>16.0</td>\n",
       "    </tr>\n",
       "    <tr>\n",
       "      <th>dif_edad</th>\n",
       "      <td>3.0</td>\n",
       "      <td>1.0</td>\n",
       "      <td>1.0</td>\n",
       "      <td>1.0</td>\n",
       "      <td>NaN</td>\n",
       "      <td>-1.0</td>\n",
       "      <td>-4.0</td>\n",
       "      <td>-5.0</td>\n",
       "      <td>-2.0</td>\n",
       "      <td>NaN</td>\n",
       "      <td>...</td>\n",
       "      <td>1.0</td>\n",
       "      <td>1.0</td>\n",
       "      <td>1.0</td>\n",
       "      <td>1.0</td>\n",
       "      <td>1.0</td>\n",
       "      <td>0.0</td>\n",
       "      <td>1.0</td>\n",
       "      <td>0.0</td>\n",
       "      <td>0.0</td>\n",
       "      <td>0.0</td>\n",
       "    </tr>\n",
       "    <tr>\n",
       "      <th>tiempo_perdido</th>\n",
       "      <td>829 days 08:00:00</td>\n",
       "      <td>49 days 00:41:00</td>\n",
       "      <td>91 days 23:00:00</td>\n",
       "      <td>30 days 02:07:00</td>\n",
       "      <td>-264 days +23:20:00</td>\n",
       "      <td>1 days 00:47:00</td>\n",
       "      <td>1 days 02:30:00</td>\n",
       "      <td>92 days 04:30:00</td>\n",
       "      <td>0 days 07:47:00</td>\n",
       "      <td>1 days 07:45:00</td>\n",
       "      <td>...</td>\n",
       "      <td>1 days 08:23:00</td>\n",
       "      <td>187 days 23:50:00</td>\n",
       "      <td>-113 days +21:20:00</td>\n",
       "      <td>23 days 06:00:00</td>\n",
       "      <td>2 days 05:24:00</td>\n",
       "      <td>4 days 20:00:00</td>\n",
       "      <td>9 days 14:30:00</td>\n",
       "      <td>0 days 22:48:00</td>\n",
       "      <td>1 days 01:25:00</td>\n",
       "      <td>1 days 01:00:00</td>\n",
       "    </tr>\n",
       "  </tbody>\n",
       "</table>\n",
       "<p>78 rows × 28327 columns</p>\n",
       "</div>"
      ],
      "text/plain": [
       "                                       0                    3      \\\n",
       "registro_nacional               desaparecido         desaparecido   \n",
       "fecha_reporte            2011-12-10 10:30:00  2012-02-01 11:41:00   \n",
       "fecha_evento             2009-09-02 02:30:00  2011-12-14 11:00:00   \n",
       "estado                              tlaxcala               colima   \n",
       "clave_estado                              29                    6   \n",
       "...                                      ...                  ...   \n",
       "dias_de_busqueda_evento                  NaT     22 days 01:00:00   \n",
       "year_birthday                         1995.0               1996.0   \n",
       "edad_calculada                          16.0                 16.0   \n",
       "dif_edad                                 3.0                  1.0   \n",
       "tiempo_perdido             829 days 08:00:00     49 days 00:41:00   \n",
       "\n",
       "                                       5                    6      \\\n",
       "registro_nacional               desaparecido         desaparecido   \n",
       "fecha_reporte            2012-09-02 11:00:00  2012-10-02 11:20:00   \n",
       "fecha_evento             2012-06-02 12:00:00  2012-09-02 09:13:00   \n",
       "estado                                colima               colima   \n",
       "clave_estado                               6                    6   \n",
       "...                                      ...                  ...   \n",
       "dias_de_busqueda_evento     94 days 13:25:00  -199 days +00:47:00   \n",
       "year_birthday                         1997.0               1997.0   \n",
       "edad_calculada                          15.0                 15.0   \n",
       "dif_edad                                 1.0                  1.0   \n",
       "tiempo_perdido              91 days 23:00:00     30 days 02:07:00   \n",
       "\n",
       "                                       7                    8      \\\n",
       "registro_nacional               desaparecido         desaparecido   \n",
       "fecha_reporte            2012-02-13 10:20:00  2012-02-21 02:00:00   \n",
       "fecha_evento             2012-11-02 11:00:00  2012-02-20 01:13:00   \n",
       "estado                                colima               colima   \n",
       "clave_estado                               6                    6   \n",
       "...                                      ...                  ...   \n",
       "dias_de_busqueda_evento    103 days 01:00:00      3 days 10:47:00   \n",
       "year_birthday                            NaN               2000.0   \n",
       "edad_calculada                           NaN                 12.0   \n",
       "dif_edad                                 NaN                 -1.0   \n",
       "tiempo_perdido           -264 days +23:20:00      1 days 00:47:00   \n",
       "\n",
       "                                       11                   15     \\\n",
       "registro_nacional               desaparecido         desaparecido   \n",
       "fecha_reporte            2012-02-15 07:00:00  2012-10-02 11:30:00   \n",
       "fecha_evento             2012-02-14 04:30:00  2012-07-02 07:00:00   \n",
       "estado                                colima               colima   \n",
       "clave_estado                               6                    6   \n",
       "...                                      ...                  ...   \n",
       "dias_de_busqueda_evento      1 days 04:30:00  -138 days +05:00:00   \n",
       "year_birthday                         2000.0               2000.0   \n",
       "edad_calculada                          12.0                 12.0   \n",
       "dif_edad                                -4.0                 -5.0   \n",
       "tiempo_perdido               1 days 02:30:00     92 days 04:30:00   \n",
       "\n",
       "                                       16                   17     ...  \\\n",
       "registro_nacional               desaparecido         desaparecido  ...   \n",
       "fecha_reporte            2012-02-20 09:00:00  2012-03-24 11:45:00  ...   \n",
       "fecha_evento             2012-02-20 01:13:00  2012-03-23 04:00:00  ...   \n",
       "estado                                colima               colima  ...   \n",
       "clave_estado                               6                    6  ...   \n",
       "...                                      ...                  ...  ...   \n",
       "dias_de_busqueda_evento      3 days 10:47:00      1 days 08:00:00  ...   \n",
       "year_birthday                         2000.0                  NaN  ...   \n",
       "edad_calculada                          12.0                  NaN  ...   \n",
       "dif_edad                                -2.0                  NaN  ...   \n",
       "tiempo_perdido               0 days 07:47:00      1 days 07:45:00  ...   \n",
       "\n",
       "                                       99081                 99084  \\\n",
       "registro_nacional               desaparecido          desaparecido   \n",
       "fecha_reporte            2018-05-15 10:53:00   2018-10-04 12:00:00   \n",
       "fecha_evento             2018-05-14 02:30:00   2018-03-30 12:10:00   \n",
       "estado                                puebla            nuevo_leon   \n",
       "clave_estado                             NaN                   NaN   \n",
       "...                                      ...                   ...   \n",
       "dias_de_busqueda_evento      2 days 01:30:00  -6664 days +23:50:00   \n",
       "year_birthday                         2004.0                2002.0   \n",
       "edad_calculada                          14.0                  16.0   \n",
       "dif_edad                                 1.0                   1.0   \n",
       "tiempo_perdido               1 days 08:23:00     187 days 23:50:00   \n",
       "\n",
       "                                       99085                 99087  \\\n",
       "registro_nacional               desaparecido          desaparecido   \n",
       "fecha_reporte            2018-01-05 05:50:00   2018-04-25 12:00:00   \n",
       "fecha_evento             2018-04-27 08:30:00   2018-04-02 06:00:00   \n",
       "estado                        aguascalientes            nuevo_leon   \n",
       "clave_estado                             NaN                   NaN   \n",
       "...                                      ...                   ...   \n",
       "dias_de_busqueda_evento   -54 days +22:43:00  -6666 days +06:00:00   \n",
       "year_birthday                         2003.0                2003.0   \n",
       "edad_calculada                          15.0                  15.0   \n",
       "dif_edad                                 1.0                   1.0   \n",
       "tiempo_perdido           -113 days +21:20:00      23 days 06:00:00   \n",
       "\n",
       "                                        99106                 99113  \\\n",
       "registro_nacional                desaparecido          desaparecido   \n",
       "fecha_reporte             2018-05-19 07:04:00   2018-05-25 02:00:00   \n",
       "fecha_evento              2018-05-17 01:40:00   2018-05-20 06:00:00   \n",
       "estado                                 colima                puebla   \n",
       "clave_estado                              NaN                   NaN   \n",
       "...                                       ...                   ...   \n",
       "dias_de_busqueda_evento  -6711 days +10:20:00  -6714 days +06:00:00   \n",
       "year_birthday                          2003.0                2004.0   \n",
       "edad_calculada                           15.0                  14.0   \n",
       "dif_edad                                  1.0                   0.0   \n",
       "tiempo_perdido                2 days 05:24:00       4 days 20:00:00   \n",
       "\n",
       "                                        99119                99123  \\\n",
       "registro_nacional                desaparecido         desaparecido   \n",
       "fecha_reporte             2018-05-30 01:30:00  2018-05-15 08:48:00   \n",
       "fecha_evento              2018-05-20 11:00:00  2018-05-14 10:00:00   \n",
       "estado                                 puebla       aguascalientes   \n",
       "clave_estado                              NaN                  NaN   \n",
       "...                                       ...                  ...   \n",
       "dias_de_busqueda_evento  -6714 days +01:00:00      1 days 16:30:00   \n",
       "year_birthday                          2000.0               2003.0   \n",
       "edad_calculada                           18.0                 15.0   \n",
       "dif_edad                                  1.0                  0.0   \n",
       "tiempo_perdido                9 days 14:30:00      0 days 22:48:00   \n",
       "\n",
       "                                       99124                99127  \n",
       "registro_nacional               desaparecido         desaparecido  \n",
       "fecha_reporte            2018-05-19 03:05:00  2018-04-25 03:00:00  \n",
       "fecha_evento             2018-05-18 01:40:00  2018-04-24 02:00:00  \n",
       "estado                        aguascalientes             guerrero  \n",
       "clave_estado                             NaN                  NaN  \n",
       "...                                      ...                  ...  \n",
       "dias_de_busqueda_evento      2 days 02:20:00      5 days 09:07:00  \n",
       "year_birthday                         2003.0               2002.0  \n",
       "edad_calculada                          15.0                 16.0  \n",
       "dif_edad                                 0.0                  0.0  \n",
       "tiempo_perdido               1 days 01:25:00      1 days 01:00:00  \n",
       "\n",
       "[78 rows x 28327 columns]"
      ]
     },
     "execution_count": 5,
     "metadata": {},
     "output_type": "execute_result"
    }
   ],
   "source": [
    "df.T"
   ]
  },
  {
   "cell_type": "code",
   "execution_count": 6,
   "id": "a9c265dc-9885-4ea5-b9f5-d85fa62a1196",
   "metadata": {},
   "outputs": [
    {
     "data": {
      "text/plain": [
       "count    28327.000000\n",
       "mean      2013.340664\n",
       "std          3.137748\n",
       "min       1989.000000\n",
       "25%       2012.000000\n",
       "50%       2014.000000\n",
       "75%       2015.000000\n",
       "max       2018.000000\n",
       "Name: year_evento, dtype: float64"
      ]
     },
     "execution_count": 6,
     "metadata": {},
     "output_type": "execute_result"
    }
   ],
   "source": [
    "df.year_evento.describe()"
   ]
  },
  {
   "cell_type": "code",
   "execution_count": 7,
   "id": "50dae33a-58bc-4fe5-a12e-352384f5b70f",
   "metadata": {},
   "outputs": [
    {
     "data": {
      "text/plain": [
       "count    28327.000000\n",
       "mean      2013.604123\n",
       "std          2.580927\n",
       "min       2006.000000\n",
       "25%       2012.000000\n",
       "50%       2014.000000\n",
       "75%       2015.000000\n",
       "max       2018.000000\n",
       "Name: year_reporte, dtype: float64"
      ]
     },
     "execution_count": 7,
     "metadata": {},
     "output_type": "execute_result"
    }
   ],
   "source": [
    "df.year_reporte.describe()"
   ]
  },
  {
   "cell_type": "code",
   "execution_count": 8,
   "id": "d574b9b0-7e05-4ce8-a3b3-7e1a08a336ff",
   "metadata": {},
   "outputs": [
    {
     "data": {
      "text/plain": [
       "count    27539.000000\n",
       "mean      1998.463924\n",
       "std          9.244457\n",
       "min       1753.000000\n",
       "25%       1997.000000\n",
       "50%       2000.000000\n",
       "75%       2000.000000\n",
       "max       2072.000000\n",
       "Name: year_birthday, dtype: float64"
      ]
     },
     "execution_count": 8,
     "metadata": {},
     "output_type": "execute_result"
    }
   ],
   "source": [
    "df.year_birthday.describe()"
   ]
  },
  {
   "cell_type": "code",
   "execution_count": 9,
   "id": "f4347cfd-0df4-426e-ad7a-1897cafd6f05",
   "metadata": {},
   "outputs": [
    {
     "data": {
      "text/plain": [
       "count    27539.000000\n",
       "mean        15.225825\n",
       "std          8.904813\n",
       "min        -62.000000\n",
       "25%         14.000000\n",
       "50%         15.000000\n",
       "75%         16.000000\n",
       "max        256.000000\n",
       "Name: edad_calculada, dtype: float64"
      ]
     },
     "execution_count": 9,
     "metadata": {},
     "output_type": "execute_result"
    }
   ],
   "source": [
    "df.edad_calculada.describe()"
   ]
  },
  {
   "cell_type": "code",
   "execution_count": 10,
   "id": "ea03d20d-84c0-4de1-a676-3bef7d147789",
   "metadata": {},
   "outputs": [
    {
     "data": {
      "text/plain": [
       "count    27539.000000\n",
       "mean         0.080214\n",
       "std          8.860709\n",
       "min        -78.000000\n",
       "25%          0.000000\n",
       "50%          0.000000\n",
       "75%          1.000000\n",
       "max        243.000000\n",
       "Name: dif_edad, dtype: float64"
      ]
     },
     "execution_count": 10,
     "metadata": {},
     "output_type": "execute_result"
    }
   ],
   "source": [
    "df.dif_edad.describe()"
   ]
  },
  {
   "cell_type": "code",
   "execution_count": 11,
   "id": "eec45636-2444-400f-824f-94ab4b4825f9",
   "metadata": {},
   "outputs": [
    {
     "data": {
      "text/plain": [
       " 0.0     12139\n",
       " 1.0      8987\n",
       "-1.0      1224\n",
       "-2.0      1122\n",
       "-3.0       985\n",
       "         ...  \n",
       "-38.0        1\n",
       "-60.0        1\n",
       "-29.0        1\n",
       "-20.0        1\n",
       " 14.0        1\n",
       "Name: dif_edad, Length: 70, dtype: int64"
      ]
     },
     "execution_count": 11,
     "metadata": {},
     "output_type": "execute_result"
    }
   ],
   "source": [
    "df.dif_edad.value_counts()"
   ]
  },
  {
   "cell_type": "code",
   "execution_count": 12,
   "id": "56086496-cf41-4937-be51-af6ce5432278",
   "metadata": {},
   "outputs": [
    {
     "data": {
      "text/html": [
       "<div>\n",
       "<style scoped>\n",
       "    .dataframe tbody tr th:only-of-type {\n",
       "        vertical-align: middle;\n",
       "    }\n",
       "\n",
       "    .dataframe tbody tr th {\n",
       "        vertical-align: top;\n",
       "    }\n",
       "\n",
       "    .dataframe thead th {\n",
       "        text-align: right;\n",
       "    }\n",
       "</style>\n",
       "<table border=\"1\" class=\"dataframe\">\n",
       "  <thead>\n",
       "    <tr style=\"text-align: right;\">\n",
       "      <th></th>\n",
       "      <th>11</th>\n",
       "      <th>15</th>\n",
       "      <th>16</th>\n",
       "      <th>22</th>\n",
       "      <th>28</th>\n",
       "      <th>37</th>\n",
       "      <th>42</th>\n",
       "      <th>43</th>\n",
       "      <th>54</th>\n",
       "      <th>64</th>\n",
       "      <th>...</th>\n",
       "      <th>96728</th>\n",
       "      <th>96875</th>\n",
       "      <th>97874</th>\n",
       "      <th>97913</th>\n",
       "      <th>97914</th>\n",
       "      <th>97926</th>\n",
       "      <th>97958</th>\n",
       "      <th>97998</th>\n",
       "      <th>98171</th>\n",
       "      <th>99069</th>\n",
       "    </tr>\n",
       "  </thead>\n",
       "  <tbody>\n",
       "    <tr>\n",
       "      <th>year_birthday</th>\n",
       "      <td>2000.0</td>\n",
       "      <td>2000.0</td>\n",
       "      <td>2000.0</td>\n",
       "      <td>2000.0</td>\n",
       "      <td>2000.0</td>\n",
       "      <td>2000.0</td>\n",
       "      <td>2000.0</td>\n",
       "      <td>2000.0</td>\n",
       "      <td>2009.0</td>\n",
       "      <td>2000.0</td>\n",
       "      <td>...</td>\n",
       "      <td>2002.0</td>\n",
       "      <td>2000.0</td>\n",
       "      <td>2017.0</td>\n",
       "      <td>2003.0</td>\n",
       "      <td>2012.0</td>\n",
       "      <td>2017.0</td>\n",
       "      <td>2000.0</td>\n",
       "      <td>2017.0</td>\n",
       "      <td>2017.0</td>\n",
       "      <td>2001.0</td>\n",
       "    </tr>\n",
       "    <tr>\n",
       "      <th>year_reporte</th>\n",
       "      <td>2012.0</td>\n",
       "      <td>2012.0</td>\n",
       "      <td>2012.0</td>\n",
       "      <td>2012.0</td>\n",
       "      <td>2012.0</td>\n",
       "      <td>2012.0</td>\n",
       "      <td>2012.0</td>\n",
       "      <td>2012.0</td>\n",
       "      <td>2009.0</td>\n",
       "      <td>2012.0</td>\n",
       "      <td>...</td>\n",
       "      <td>2016.0</td>\n",
       "      <td>2013.0</td>\n",
       "      <td>2017.0</td>\n",
       "      <td>2017.0</td>\n",
       "      <td>2017.0</td>\n",
       "      <td>2017.0</td>\n",
       "      <td>2012.0</td>\n",
       "      <td>2017.0</td>\n",
       "      <td>2017.0</td>\n",
       "      <td>2016.0</td>\n",
       "    </tr>\n",
       "    <tr>\n",
       "      <th>year_evento</th>\n",
       "      <td>2012.0</td>\n",
       "      <td>2012.0</td>\n",
       "      <td>2012.0</td>\n",
       "      <td>2012.0</td>\n",
       "      <td>2012.0</td>\n",
       "      <td>2012.0</td>\n",
       "      <td>2012.0</td>\n",
       "      <td>2012.0</td>\n",
       "      <td>2009.0</td>\n",
       "      <td>2012.0</td>\n",
       "      <td>...</td>\n",
       "      <td>2016.0</td>\n",
       "      <td>2013.0</td>\n",
       "      <td>2017.0</td>\n",
       "      <td>2017.0</td>\n",
       "      <td>2017.0</td>\n",
       "      <td>2017.0</td>\n",
       "      <td>2012.0</td>\n",
       "      <td>2017.0</td>\n",
       "      <td>2017.0</td>\n",
       "      <td>2016.0</td>\n",
       "    </tr>\n",
       "    <tr>\n",
       "      <th>edad</th>\n",
       "      <td>16.0</td>\n",
       "      <td>17.0</td>\n",
       "      <td>14.0</td>\n",
       "      <td>17.0</td>\n",
       "      <td>17.0</td>\n",
       "      <td>16.0</td>\n",
       "      <td>15.0</td>\n",
       "      <td>17.0</td>\n",
       "      <td>14.0</td>\n",
       "      <td>16.0</td>\n",
       "      <td>...</td>\n",
       "      <td>16.0</td>\n",
       "      <td>16.0</td>\n",
       "      <td>16.0</td>\n",
       "      <td>16.0</td>\n",
       "      <td>15.0</td>\n",
       "      <td>15.0</td>\n",
       "      <td>16.0</td>\n",
       "      <td>17.0</td>\n",
       "      <td>15.0</td>\n",
       "      <td>17.0</td>\n",
       "    </tr>\n",
       "    <tr>\n",
       "      <th>edad_calculada</th>\n",
       "      <td>12.0</td>\n",
       "      <td>12.0</td>\n",
       "      <td>12.0</td>\n",
       "      <td>12.0</td>\n",
       "      <td>12.0</td>\n",
       "      <td>12.0</td>\n",
       "      <td>12.0</td>\n",
       "      <td>12.0</td>\n",
       "      <td>0.0</td>\n",
       "      <td>12.0</td>\n",
       "      <td>...</td>\n",
       "      <td>14.0</td>\n",
       "      <td>13.0</td>\n",
       "      <td>0.0</td>\n",
       "      <td>14.0</td>\n",
       "      <td>5.0</td>\n",
       "      <td>0.0</td>\n",
       "      <td>12.0</td>\n",
       "      <td>0.0</td>\n",
       "      <td>0.0</td>\n",
       "      <td>15.0</td>\n",
       "    </tr>\n",
       "    <tr>\n",
       "      <th>dif_edad</th>\n",
       "      <td>-4.0</td>\n",
       "      <td>-5.0</td>\n",
       "      <td>-2.0</td>\n",
       "      <td>-5.0</td>\n",
       "      <td>-5.0</td>\n",
       "      <td>-4.0</td>\n",
       "      <td>-3.0</td>\n",
       "      <td>-5.0</td>\n",
       "      <td>-14.0</td>\n",
       "      <td>-4.0</td>\n",
       "      <td>...</td>\n",
       "      <td>-2.0</td>\n",
       "      <td>-3.0</td>\n",
       "      <td>-16.0</td>\n",
       "      <td>-2.0</td>\n",
       "      <td>-10.0</td>\n",
       "      <td>-15.0</td>\n",
       "      <td>-4.0</td>\n",
       "      <td>-17.0</td>\n",
       "      <td>-15.0</td>\n",
       "      <td>-2.0</td>\n",
       "    </tr>\n",
       "  </tbody>\n",
       "</table>\n",
       "<p>6 rows × 4288 columns</p>\n",
       "</div>"
      ],
      "text/plain": [
       "                 11      15      16      22      28      37      42     \\\n",
       "year_birthday   2000.0  2000.0  2000.0  2000.0  2000.0  2000.0  2000.0   \n",
       "year_reporte    2012.0  2012.0  2012.0  2012.0  2012.0  2012.0  2012.0   \n",
       "year_evento     2012.0  2012.0  2012.0  2012.0  2012.0  2012.0  2012.0   \n",
       "edad              16.0    17.0    14.0    17.0    17.0    16.0    15.0   \n",
       "edad_calculada    12.0    12.0    12.0    12.0    12.0    12.0    12.0   \n",
       "dif_edad          -4.0    -5.0    -2.0    -5.0    -5.0    -4.0    -3.0   \n",
       "\n",
       "                 43      54      64     ...   96728   96875   97874   97913  \\\n",
       "year_birthday   2000.0  2009.0  2000.0  ...  2002.0  2000.0  2017.0  2003.0   \n",
       "year_reporte    2012.0  2009.0  2012.0  ...  2016.0  2013.0  2017.0  2017.0   \n",
       "year_evento     2012.0  2009.0  2012.0  ...  2016.0  2013.0  2017.0  2017.0   \n",
       "edad              17.0    14.0    16.0  ...    16.0    16.0    16.0    16.0   \n",
       "edad_calculada    12.0     0.0    12.0  ...    14.0    13.0     0.0    14.0   \n",
       "dif_edad          -5.0   -14.0    -4.0  ...    -2.0    -3.0   -16.0    -2.0   \n",
       "\n",
       "                 97914   97926   97958   97998   98171   99069  \n",
       "year_birthday   2012.0  2017.0  2000.0  2017.0  2017.0  2001.0  \n",
       "year_reporte    2017.0  2017.0  2012.0  2017.0  2017.0  2016.0  \n",
       "year_evento     2017.0  2017.0  2012.0  2017.0  2017.0  2016.0  \n",
       "edad              15.0    15.0    16.0    17.0    15.0    17.0  \n",
       "edad_calculada     5.0     0.0    12.0     0.0     0.0    15.0  \n",
       "dif_edad         -10.0   -15.0    -4.0   -17.0   -15.0    -2.0  \n",
       "\n",
       "[6 rows x 4288 columns]"
      ]
     },
     "execution_count": 12,
     "metadata": {},
     "output_type": "execute_result"
    }
   ],
   "source": [
    "df[(df['dif_edad'] < -1)][['year_birthday','year_reporte','year_evento','edad','edad_calculada', 'dif_edad']].T"
   ]
  },
  {
   "cell_type": "code",
   "execution_count": 13,
   "id": "3da872b4-db08-4e2d-99ec-b43bb06080c8",
   "metadata": {},
   "outputs": [],
   "source": [
    "df.drop(df[(df['dif_edad'] < -1)].index, inplace=True)"
   ]
  },
  {
   "cell_type": "code",
   "execution_count": 14,
   "id": "2250d36d-5c6d-4854-ab74-d469e343d699",
   "metadata": {},
   "outputs": [
    {
     "data": {
      "text/plain": [
       "count    23251.000000\n",
       "mean        16.005892\n",
       "std          9.299134\n",
       "min         12.000000\n",
       "25%         14.000000\n",
       "50%         16.000000\n",
       "75%         17.000000\n",
       "max        256.000000\n",
       "Name: edad_calculada, dtype: float64"
      ]
     },
     "execution_count": 14,
     "metadata": {},
     "output_type": "execute_result"
    }
   ],
   "source": [
    "df.edad_calculada.describe()"
   ]
  },
  {
   "cell_type": "code",
   "execution_count": 15,
   "id": "6a5f4c9a-4227-480c-a6e6-d6c712022458",
   "metadata": {},
   "outputs": [
    {
     "data": {
      "text/html": [
       "<div>\n",
       "<style scoped>\n",
       "    .dataframe tbody tr th:only-of-type {\n",
       "        vertical-align: middle;\n",
       "    }\n",
       "\n",
       "    .dataframe tbody tr th {\n",
       "        vertical-align: top;\n",
       "    }\n",
       "\n",
       "    .dataframe thead th {\n",
       "        text-align: right;\n",
       "    }\n",
       "</style>\n",
       "<table border=\"1\" class=\"dataframe\">\n",
       "  <thead>\n",
       "    <tr style=\"text-align: right;\">\n",
       "      <th></th>\n",
       "      <th>1005</th>\n",
       "      <th>1535</th>\n",
       "      <th>1789</th>\n",
       "      <th>1802</th>\n",
       "      <th>2095</th>\n",
       "      <th>2226</th>\n",
       "      <th>2229</th>\n",
       "      <th>2295</th>\n",
       "      <th>2331</th>\n",
       "      <th>2430</th>\n",
       "      <th>...</th>\n",
       "      <th>97336</th>\n",
       "      <th>97563</th>\n",
       "      <th>97720</th>\n",
       "      <th>97850</th>\n",
       "      <th>97971</th>\n",
       "      <th>97991</th>\n",
       "      <th>97992</th>\n",
       "      <th>97994</th>\n",
       "      <th>97996</th>\n",
       "      <th>98002</th>\n",
       "    </tr>\n",
       "  </thead>\n",
       "  <tbody>\n",
       "    <tr>\n",
       "      <th>year_birthday</th>\n",
       "      <td>1987.0</td>\n",
       "      <td>1990.0</td>\n",
       "      <td>1990.0</td>\n",
       "      <td>1986.0</td>\n",
       "      <td>1991.0</td>\n",
       "      <td>1990.0</td>\n",
       "      <td>1990.0</td>\n",
       "      <td>1990.0</td>\n",
       "      <td>1982.0</td>\n",
       "      <td>1990.0</td>\n",
       "      <td>...</td>\n",
       "      <td>1990.0</td>\n",
       "      <td>1990.0</td>\n",
       "      <td>1988.0</td>\n",
       "      <td>1990.0</td>\n",
       "      <td>1990.0</td>\n",
       "      <td>1990.0</td>\n",
       "      <td>1990.0</td>\n",
       "      <td>1990.0</td>\n",
       "      <td>1990.0</td>\n",
       "      <td>1990.0</td>\n",
       "    </tr>\n",
       "    <tr>\n",
       "      <th>year_reporte</th>\n",
       "      <td>2009</td>\n",
       "      <td>2012</td>\n",
       "      <td>2012</td>\n",
       "      <td>2012</td>\n",
       "      <td>2010</td>\n",
       "      <td>2011</td>\n",
       "      <td>2011</td>\n",
       "      <td>2009</td>\n",
       "      <td>2008</td>\n",
       "      <td>2011</td>\n",
       "      <td>...</td>\n",
       "      <td>2017</td>\n",
       "      <td>2013</td>\n",
       "      <td>2011</td>\n",
       "      <td>2011</td>\n",
       "      <td>2009</td>\n",
       "      <td>2009</td>\n",
       "      <td>2009</td>\n",
       "      <td>2009</td>\n",
       "      <td>2013</td>\n",
       "      <td>2009</td>\n",
       "    </tr>\n",
       "    <tr>\n",
       "      <th>year_evento</th>\n",
       "      <td>2009</td>\n",
       "      <td>2012</td>\n",
       "      <td>2011</td>\n",
       "      <td>2011</td>\n",
       "      <td>2010</td>\n",
       "      <td>2011</td>\n",
       "      <td>2011</td>\n",
       "      <td>2009</td>\n",
       "      <td>2008</td>\n",
       "      <td>2011</td>\n",
       "      <td>...</td>\n",
       "      <td>2017</td>\n",
       "      <td>2011</td>\n",
       "      <td>2011</td>\n",
       "      <td>2011</td>\n",
       "      <td>2009</td>\n",
       "      <td>2009</td>\n",
       "      <td>2009</td>\n",
       "      <td>2009</td>\n",
       "      <td>2013</td>\n",
       "      <td>2009</td>\n",
       "    </tr>\n",
       "    <tr>\n",
       "      <th>edad</th>\n",
       "      <td>15.0</td>\n",
       "      <td>15.0</td>\n",
       "      <td>17.0</td>\n",
       "      <td>17.0</td>\n",
       "      <td>16.0</td>\n",
       "      <td>17.0</td>\n",
       "      <td>17.0</td>\n",
       "      <td>14.0</td>\n",
       "      <td>16.0</td>\n",
       "      <td>14.0</td>\n",
       "      <td>...</td>\n",
       "      <td>16.0</td>\n",
       "      <td>14.0</td>\n",
       "      <td>13.0</td>\n",
       "      <td>15.0</td>\n",
       "      <td>15.0</td>\n",
       "      <td>17.0</td>\n",
       "      <td>16.0</td>\n",
       "      <td>13.0</td>\n",
       "      <td>15.0</td>\n",
       "      <td>17.0</td>\n",
       "    </tr>\n",
       "    <tr>\n",
       "      <th>edad_calculada</th>\n",
       "      <td>22.0</td>\n",
       "      <td>22.0</td>\n",
       "      <td>22.0</td>\n",
       "      <td>26.0</td>\n",
       "      <td>19.0</td>\n",
       "      <td>21.0</td>\n",
       "      <td>21.0</td>\n",
       "      <td>19.0</td>\n",
       "      <td>26.0</td>\n",
       "      <td>21.0</td>\n",
       "      <td>...</td>\n",
       "      <td>27.0</td>\n",
       "      <td>23.0</td>\n",
       "      <td>23.0</td>\n",
       "      <td>21.0</td>\n",
       "      <td>19.0</td>\n",
       "      <td>19.0</td>\n",
       "      <td>19.0</td>\n",
       "      <td>19.0</td>\n",
       "      <td>23.0</td>\n",
       "      <td>19.0</td>\n",
       "    </tr>\n",
       "    <tr>\n",
       "      <th>tiempo_perdido</th>\n",
       "      <td>3 days 03:07:00</td>\n",
       "      <td>-57 days +04:55:00</td>\n",
       "      <td>214 days 23:21:00</td>\n",
       "      <td>282 days 13:32:00</td>\n",
       "      <td>122 days 07:49:00</td>\n",
       "      <td>-178 days +08:20:00</td>\n",
       "      <td>92 days 02:15:00</td>\n",
       "      <td>60 days 23:15:00</td>\n",
       "      <td>1 days 20:56:00</td>\n",
       "      <td>1 days 03:40:00</td>\n",
       "      <td>...</td>\n",
       "      <td>0 days 03:05:00</td>\n",
       "      <td>902 days 00:00:00</td>\n",
       "      <td>-1 days +16:05:00</td>\n",
       "      <td>2 days 01:49:00</td>\n",
       "      <td>-52 days +00:50:00</td>\n",
       "      <td>28 days 04:43:00</td>\n",
       "      <td>-53 days +02:53:00</td>\n",
       "      <td>0 days 21:53:00</td>\n",
       "      <td>4 days 00:00:00</td>\n",
       "      <td>-84 days +02:16:00</td>\n",
       "    </tr>\n",
       "  </tbody>\n",
       "</table>\n",
       "<p>6 rows × 371 columns</p>\n",
       "</div>"
      ],
      "text/plain": [
       "                          1005                1535               1789   \\\n",
       "year_birthday            1987.0              1990.0             1990.0   \n",
       "year_reporte               2009                2012               2012   \n",
       "year_evento                2009                2012               2011   \n",
       "edad                       15.0                15.0               17.0   \n",
       "edad_calculada             22.0                22.0               22.0   \n",
       "tiempo_perdido  3 days 03:07:00  -57 days +04:55:00  214 days 23:21:00   \n",
       "\n",
       "                            1802               2095                 2226   \\\n",
       "year_birthday              1986.0             1991.0               1990.0   \n",
       "year_reporte                 2012               2010                 2011   \n",
       "year_evento                  2011               2010                 2011   \n",
       "edad                         17.0               16.0                 17.0   \n",
       "edad_calculada               26.0               19.0                 21.0   \n",
       "tiempo_perdido  282 days 13:32:00  122 days 07:49:00  -178 days +08:20:00   \n",
       "\n",
       "                           2229              2295             2331   \\\n",
       "year_birthday             1990.0            1990.0           1982.0   \n",
       "year_reporte                2011              2009             2008   \n",
       "year_evento                 2011              2009             2008   \n",
       "edad                        17.0              14.0             16.0   \n",
       "edad_calculada              21.0              19.0             26.0   \n",
       "tiempo_perdido  92 days 02:15:00  60 days 23:15:00  1 days 20:56:00   \n",
       "\n",
       "                          2430   ...            97336              97563  \\\n",
       "year_birthday            1990.0  ...           1990.0             1990.0   \n",
       "year_reporte               2011  ...             2017               2013   \n",
       "year_evento                2011  ...             2017               2011   \n",
       "edad                       14.0  ...             16.0               14.0   \n",
       "edad_calculada             21.0  ...             27.0               23.0   \n",
       "tiempo_perdido  1 days 03:40:00  ...  0 days 03:05:00  902 days 00:00:00   \n",
       "\n",
       "                            97720            97850               97971  \\\n",
       "year_birthday              1988.0           1990.0              1990.0   \n",
       "year_reporte                 2011             2011                2009   \n",
       "year_evento                  2011             2011                2009   \n",
       "edad                         13.0             15.0                15.0   \n",
       "edad_calculada               23.0             21.0                19.0   \n",
       "tiempo_perdido  -1 days +16:05:00  2 days 01:49:00  -52 days +00:50:00   \n",
       "\n",
       "                           97991               97992            97994  \\\n",
       "year_birthday             1990.0              1990.0           1990.0   \n",
       "year_reporte                2009                2009             2009   \n",
       "year_evento                 2009                2009             2009   \n",
       "edad                        17.0                16.0             13.0   \n",
       "edad_calculada              19.0                19.0             19.0   \n",
       "tiempo_perdido  28 days 04:43:00  -53 days +02:53:00  0 days 21:53:00   \n",
       "\n",
       "                          97996               98002  \n",
       "year_birthday            1990.0              1990.0  \n",
       "year_reporte               2013                2009  \n",
       "year_evento                2013                2009  \n",
       "edad                       15.0                17.0  \n",
       "edad_calculada             23.0                19.0  \n",
       "tiempo_perdido  4 days 00:00:00  -84 days +02:16:00  \n",
       "\n",
       "[6 rows x 371 columns]"
      ]
     },
     "execution_count": 15,
     "metadata": {},
     "output_type": "execute_result"
    }
   ],
   "source": [
    "df[(df['edad_calculada'] > 18)][['year_birthday','year_reporte','year_evento','edad','edad_calculada', 'tiempo_perdido']].T"
   ]
  },
  {
   "cell_type": "code",
   "execution_count": 16,
   "id": "ccc2d729-f426-4de9-b707-7129c91e3f88",
   "metadata": {},
   "outputs": [],
   "source": [
    "df.drop(df[(df['edad_calculada'] > 18)].index, inplace=True)"
   ]
  },
  {
   "cell_type": "code",
   "execution_count": 17,
   "id": "429524ae-e200-4166-afb1-7087ce20716c",
   "metadata": {},
   "outputs": [
    {
     "data": {
      "text/plain": [
       "count    22880.000000\n",
       "mean      1998.644799\n",
       "std          2.695596\n",
       "min       1988.000000\n",
       "25%       1997.000000\n",
       "50%       1999.000000\n",
       "75%       2000.000000\n",
       "max       2006.000000\n",
       "Name: year_birthday, dtype: float64"
      ]
     },
     "execution_count": 17,
     "metadata": {},
     "output_type": "execute_result"
    }
   ],
   "source": [
    "df.year_birthday.describe()"
   ]
  },
  {
   "cell_type": "code",
   "execution_count": 18,
   "id": "3f59ceaf-a52a-4a82-bd9b-8fb7e2c7f542",
   "metadata": {},
   "outputs": [
    {
     "data": {
      "text/html": [
       "<div>\n",
       "<style scoped>\n",
       "    .dataframe tbody tr th:only-of-type {\n",
       "        vertical-align: middle;\n",
       "    }\n",
       "\n",
       "    .dataframe tbody tr th {\n",
       "        vertical-align: top;\n",
       "    }\n",
       "\n",
       "    .dataframe thead th {\n",
       "        text-align: right;\n",
       "    }\n",
       "</style>\n",
       "<table border=\"1\" class=\"dataframe\">\n",
       "  <thead>\n",
       "    <tr style=\"text-align: right;\">\n",
       "      <th></th>\n",
       "      <th>0</th>\n",
       "      <th>21</th>\n",
       "      <th>991</th>\n",
       "      <th>1813</th>\n",
       "      <th>3600</th>\n",
       "      <th>4164</th>\n",
       "      <th>4165</th>\n",
       "      <th>4583</th>\n",
       "      <th>4603</th>\n",
       "      <th>4645</th>\n",
       "      <th>...</th>\n",
       "      <th>98676</th>\n",
       "      <th>98744</th>\n",
       "      <th>98892</th>\n",
       "      <th>98895</th>\n",
       "      <th>98909</th>\n",
       "      <th>98926</th>\n",
       "      <th>98933</th>\n",
       "      <th>98998</th>\n",
       "      <th>99050</th>\n",
       "      <th>99051</th>\n",
       "    </tr>\n",
       "  </thead>\n",
       "  <tbody>\n",
       "    <tr>\n",
       "      <th>year_birthday</th>\n",
       "      <td>1995.0</td>\n",
       "      <td>1995.0</td>\n",
       "      <td>1993.0</td>\n",
       "      <td>1997.0</td>\n",
       "      <td>1993.0</td>\n",
       "      <td>1995.0</td>\n",
       "      <td>1994.0</td>\n",
       "      <td>1995.0</td>\n",
       "      <td>1991.0</td>\n",
       "      <td>1998.0</td>\n",
       "      <td>...</td>\n",
       "      <td>2000.0</td>\n",
       "      <td>2000.0</td>\n",
       "      <td>2000.0</td>\n",
       "      <td>2000.0</td>\n",
       "      <td>2000.0</td>\n",
       "      <td>2000.0</td>\n",
       "      <td>2000.0</td>\n",
       "      <td>2000.0</td>\n",
       "      <td>2000.0</td>\n",
       "      <td>2000.0</td>\n",
       "    </tr>\n",
       "    <tr>\n",
       "      <th>year_reporte</th>\n",
       "      <td>2011</td>\n",
       "      <td>2011</td>\n",
       "      <td>2008</td>\n",
       "      <td>2012</td>\n",
       "      <td>2011</td>\n",
       "      <td>2012</td>\n",
       "      <td>2012</td>\n",
       "      <td>2013</td>\n",
       "      <td>2009</td>\n",
       "      <td>2013</td>\n",
       "      <td>...</td>\n",
       "      <td>2017</td>\n",
       "      <td>2017</td>\n",
       "      <td>2017</td>\n",
       "      <td>2017</td>\n",
       "      <td>2017</td>\n",
       "      <td>2017</td>\n",
       "      <td>2016</td>\n",
       "      <td>2018</td>\n",
       "      <td>2018</td>\n",
       "      <td>2018</td>\n",
       "    </tr>\n",
       "    <tr>\n",
       "      <th>year_evento</th>\n",
       "      <td>2009</td>\n",
       "      <td>2011</td>\n",
       "      <td>2008</td>\n",
       "      <td>2012</td>\n",
       "      <td>2009</td>\n",
       "      <td>2012</td>\n",
       "      <td>2011</td>\n",
       "      <td>2013</td>\n",
       "      <td>2009</td>\n",
       "      <td>2013</td>\n",
       "      <td>...</td>\n",
       "      <td>2010</td>\n",
       "      <td>2017</td>\n",
       "      <td>2017</td>\n",
       "      <td>2017</td>\n",
       "      <td>2017</td>\n",
       "      <td>2017</td>\n",
       "      <td>2016</td>\n",
       "      <td>2018</td>\n",
       "      <td>2018</td>\n",
       "      <td>2018</td>\n",
       "    </tr>\n",
       "    <tr>\n",
       "      <th>edad</th>\n",
       "      <td>13.0</td>\n",
       "      <td>14.0</td>\n",
       "      <td>13.0</td>\n",
       "      <td>13.0</td>\n",
       "      <td>16.0</td>\n",
       "      <td>15.0</td>\n",
       "      <td>16.0</td>\n",
       "      <td>16.0</td>\n",
       "      <td>15.0</td>\n",
       "      <td>13.0</td>\n",
       "      <td>...</td>\n",
       "      <td>13.0</td>\n",
       "      <td>15.0</td>\n",
       "      <td>14.0</td>\n",
       "      <td>13.0</td>\n",
       "      <td>13.0</td>\n",
       "      <td>13.0</td>\n",
       "      <td>14.0</td>\n",
       "      <td>14.0</td>\n",
       "      <td>14.0</td>\n",
       "      <td>15.0</td>\n",
       "    </tr>\n",
       "    <tr>\n",
       "      <th>edad_calculada</th>\n",
       "      <td>16.0</td>\n",
       "      <td>16.0</td>\n",
       "      <td>15.0</td>\n",
       "      <td>15.0</td>\n",
       "      <td>18.0</td>\n",
       "      <td>17.0</td>\n",
       "      <td>18.0</td>\n",
       "      <td>18.0</td>\n",
       "      <td>18.0</td>\n",
       "      <td>15.0</td>\n",
       "      <td>...</td>\n",
       "      <td>17.0</td>\n",
       "      <td>17.0</td>\n",
       "      <td>17.0</td>\n",
       "      <td>17.0</td>\n",
       "      <td>17.0</td>\n",
       "      <td>17.0</td>\n",
       "      <td>16.0</td>\n",
       "      <td>18.0</td>\n",
       "      <td>18.0</td>\n",
       "      <td>18.0</td>\n",
       "    </tr>\n",
       "    <tr>\n",
       "      <th>dif_edad</th>\n",
       "      <td>3.0</td>\n",
       "      <td>2.0</td>\n",
       "      <td>2.0</td>\n",
       "      <td>2.0</td>\n",
       "      <td>2.0</td>\n",
       "      <td>2.0</td>\n",
       "      <td>2.0</td>\n",
       "      <td>2.0</td>\n",
       "      <td>3.0</td>\n",
       "      <td>2.0</td>\n",
       "      <td>...</td>\n",
       "      <td>4.0</td>\n",
       "      <td>2.0</td>\n",
       "      <td>3.0</td>\n",
       "      <td>4.0</td>\n",
       "      <td>4.0</td>\n",
       "      <td>4.0</td>\n",
       "      <td>2.0</td>\n",
       "      <td>4.0</td>\n",
       "      <td>4.0</td>\n",
       "      <td>3.0</td>\n",
       "    </tr>\n",
       "    <tr>\n",
       "      <th>tiempo_perdido</th>\n",
       "      <td>829 days 08:00:00</td>\n",
       "      <td>163 days 00:44:00</td>\n",
       "      <td>32 days 01:15:00</td>\n",
       "      <td>6 days 20:58:00</td>\n",
       "      <td>776 days 19:30:00</td>\n",
       "      <td>-1 days +22:08:00</td>\n",
       "      <td>283 days 03:00:00</td>\n",
       "      <td>153 days 00:00:00</td>\n",
       "      <td>0 days 03:21:00</td>\n",
       "      <td>6 days 00:00:00</td>\n",
       "      <td>...</td>\n",
       "      <td>2488 days 02:30:00</td>\n",
       "      <td>0 days 00:00:00</td>\n",
       "      <td>-144 days +00:00:00</td>\n",
       "      <td>-29 days +07:04:03</td>\n",
       "      <td>-288 days +02:20:59</td>\n",
       "      <td>30 days 17:53:03</td>\n",
       "      <td>30 days 23:03:57</td>\n",
       "      <td>-1 days +19:34:00</td>\n",
       "      <td>30 days 00:39:39</td>\n",
       "      <td>0 days 08:30:00</td>\n",
       "    </tr>\n",
       "  </tbody>\n",
       "</table>\n",
       "<p>7 rows × 530 columns</p>\n",
       "</div>"
      ],
      "text/plain": [
       "                            0                  21                991    \\\n",
       "year_birthday              1995.0             1995.0            1993.0   \n",
       "year_reporte                 2011               2011              2008   \n",
       "year_evento                  2009               2011              2008   \n",
       "edad                         13.0               14.0              13.0   \n",
       "edad_calculada               16.0               16.0              15.0   \n",
       "dif_edad                      3.0                2.0               2.0   \n",
       "tiempo_perdido  829 days 08:00:00  163 days 00:44:00  32 days 01:15:00   \n",
       "\n",
       "                          1813               3600               4164   \\\n",
       "year_birthday            1997.0             1993.0             1995.0   \n",
       "year_reporte               2012               2011               2012   \n",
       "year_evento                2012               2009               2012   \n",
       "edad                       13.0               16.0               15.0   \n",
       "edad_calculada             15.0               18.0               17.0   \n",
       "dif_edad                    2.0                2.0                2.0   \n",
       "tiempo_perdido  6 days 20:58:00  776 days 19:30:00  -1 days +22:08:00   \n",
       "\n",
       "                            4165               4583             4603   \\\n",
       "year_birthday              1994.0             1995.0           1991.0   \n",
       "year_reporte                 2012               2013             2009   \n",
       "year_evento                  2011               2013             2009   \n",
       "edad                         16.0               16.0             15.0   \n",
       "edad_calculada               18.0               18.0             18.0   \n",
       "dif_edad                      2.0                2.0              3.0   \n",
       "tiempo_perdido  283 days 03:00:00  153 days 00:00:00  0 days 03:21:00   \n",
       "\n",
       "                          4645   ...               98676            98744  \\\n",
       "year_birthday            1998.0  ...              2000.0           2000.0   \n",
       "year_reporte               2013  ...                2017             2017   \n",
       "year_evento                2013  ...                2010             2017   \n",
       "edad                       13.0  ...                13.0             15.0   \n",
       "edad_calculada             15.0  ...                17.0             17.0   \n",
       "dif_edad                    2.0  ...                 4.0              2.0   \n",
       "tiempo_perdido  6 days 00:00:00  ...  2488 days 02:30:00  0 days 00:00:00   \n",
       "\n",
       "                              98892               98895                98909  \\\n",
       "year_birthday                2000.0              2000.0               2000.0   \n",
       "year_reporte                   2017                2017                 2017   \n",
       "year_evento                    2017                2017                 2017   \n",
       "edad                           14.0                13.0                 13.0   \n",
       "edad_calculada                 17.0                17.0                 17.0   \n",
       "dif_edad                        3.0                 4.0                  4.0   \n",
       "tiempo_perdido  -144 days +00:00:00  -29 days +07:04:03  -288 days +02:20:59   \n",
       "\n",
       "                           98926             98933              98998  \\\n",
       "year_birthday             2000.0            2000.0             2000.0   \n",
       "year_reporte                2017              2016               2018   \n",
       "year_evento                 2017              2016               2018   \n",
       "edad                        13.0              14.0               14.0   \n",
       "edad_calculada              17.0              16.0               18.0   \n",
       "dif_edad                     4.0               2.0                4.0   \n",
       "tiempo_perdido  30 days 17:53:03  30 days 23:03:57  -1 days +19:34:00   \n",
       "\n",
       "                           99050            99051  \n",
       "year_birthday             2000.0           2000.0  \n",
       "year_reporte                2018             2018  \n",
       "year_evento                 2018             2018  \n",
       "edad                        14.0             15.0  \n",
       "edad_calculada              18.0             18.0  \n",
       "dif_edad                     4.0              3.0  \n",
       "tiempo_perdido  30 days 00:39:39  0 days 08:30:00  \n",
       "\n",
       "[7 rows x 530 columns]"
      ]
     },
     "execution_count": 18,
     "metadata": {},
     "output_type": "execute_result"
    }
   ],
   "source": [
    "df[(df['dif_edad'] > 1)][['year_birthday','year_reporte','year_evento','edad','edad_calculada', 'dif_edad','tiempo_perdido']].T"
   ]
  },
  {
   "cell_type": "code",
   "execution_count": 19,
   "id": "e17cce97-dbf2-45f3-ba37-b7a152410776",
   "metadata": {},
   "outputs": [
    {
     "data": {
      "text/plain": [
       "count    23668.000000\n",
       "mean      2013.738254\n",
       "std          3.048249\n",
       "min       1998.000000\n",
       "25%       2013.000000\n",
       "50%       2014.000000\n",
       "75%       2016.000000\n",
       "max       2018.000000\n",
       "Name: year_evento, dtype: float64"
      ]
     },
     "execution_count": 19,
     "metadata": {},
     "output_type": "execute_result"
    }
   ],
   "source": [
    "df.year_evento.describe()"
   ]
  },
  {
   "cell_type": "code",
   "execution_count": 20,
   "id": "25426514-32ca-48bb-ac9a-e82c3e72e0b8",
   "metadata": {},
   "outputs": [
    {
     "data": {
      "text/html": [
       "<div>\n",
       "<style scoped>\n",
       "    .dataframe tbody tr th:only-of-type {\n",
       "        vertical-align: middle;\n",
       "    }\n",
       "\n",
       "    .dataframe tbody tr th {\n",
       "        vertical-align: top;\n",
       "    }\n",
       "\n",
       "    .dataframe thead th {\n",
       "        text-align: right;\n",
       "    }\n",
       "</style>\n",
       "<table border=\"1\" class=\"dataframe\">\n",
       "  <thead>\n",
       "    <tr style=\"text-align: right;\">\n",
       "      <th></th>\n",
       "      <th>year_birthday</th>\n",
       "      <th>year_reporte</th>\n",
       "      <th>year_evento</th>\n",
       "      <th>edad</th>\n",
       "      <th>edad_calculada</th>\n",
       "      <th>dif_edad</th>\n",
       "      <th>tiempo_perdido</th>\n",
       "      <th>vivo_o_muerto</th>\n",
       "    </tr>\n",
       "  </thead>\n",
       "  <tbody>\n",
       "    <tr>\n",
       "      <th>97595</th>\n",
       "      <td>2002.0</td>\n",
       "      <td>2016</td>\n",
       "      <td>1998</td>\n",
       "      <td>15.0</td>\n",
       "      <td>14.0</td>\n",
       "      <td>-1.0</td>\n",
       "      <td>6657 days</td>\n",
       "      <td>aun_sin_localizar</td>\n",
       "    </tr>\n",
       "  </tbody>\n",
       "</table>\n",
       "</div>"
      ],
      "text/plain": [
       "       year_birthday  year_reporte  year_evento  edad  edad_calculada  \\\n",
       "97595         2002.0          2016         1998  15.0            14.0   \n",
       "\n",
       "       dif_edad tiempo_perdido      vivo_o_muerto  \n",
       "97595      -1.0      6657 days  aun_sin_localizar  "
      ]
     },
     "execution_count": 20,
     "metadata": {},
     "output_type": "execute_result"
    }
   ],
   "source": [
    "df[(df['year_evento'] == 1998)][['year_birthday','year_reporte','year_evento','edad','edad_calculada', 'dif_edad','tiempo_perdido','vivo_o_muerto']]"
   ]
  },
  {
   "cell_type": "code",
   "execution_count": 21,
   "id": "10cfc266-7556-4bec-8355-ee10601abeb2",
   "metadata": {},
   "outputs": [
    {
     "data": {
      "text/plain": [
       "count    22880.000000\n",
       "mean        15.458304\n",
       "std          1.413599\n",
       "min         12.000000\n",
       "25%         14.000000\n",
       "50%         16.000000\n",
       "75%         17.000000\n",
       "max         18.000000\n",
       "Name: edad_calculada, dtype: float64"
      ]
     },
     "execution_count": 21,
     "metadata": {},
     "output_type": "execute_result"
    }
   ],
   "source": [
    "df.edad_calculada.describe()"
   ]
  },
  {
   "cell_type": "markdown",
   "id": "8dd21b74-82ba-43c3-8228-5bc565bd2744",
   "metadata": {},
   "source": [
    "## Al final nos quedaron"
   ]
  },
  {
   "cell_type": "code",
   "execution_count": 22,
   "id": "8eafd5ac-1f1a-4e7e-8bb5-e854daf4ce5b",
   "metadata": {},
   "outputs": [
    {
     "data": {
      "text/plain": [
       "23668"
      ]
     },
     "execution_count": 22,
     "metadata": {},
     "output_type": "execute_result"
    }
   ],
   "source": [
    "len(df)"
   ]
  },
  {
   "cell_type": "markdown",
   "id": "4c1ae407-dc87-4062-8149-2e11708a962f",
   "metadata": {},
   "source": [
    "## EDA"
   ]
  },
  {
   "cell_type": "code",
   "execution_count": 23,
   "id": "aa6c6867-27db-4530-b82a-a4b813072115",
   "metadata": {},
   "outputs": [
    {
     "data": {
      "image/png": "[encoded data removed]",
      "text/plain": [
       "<Figure size 576x576 with 1 Axes>"
      ]
     },
     "metadata": {
      "needs_background": "light"
     },
     "output_type": "display_data"
    }
   ],
   "source": [
    "plt.figure(figsize=(8, 8))\n",
    "\n",
    "sns.set_palette(\"coolwarm\")\n",
    "sns.set_style(\"ticks\")\n",
    "sns.set_context(\"talk\")\n",
    "\n",
    "plt.ylabel('Frequency')\n",
    "plt.xlabel('Gender')\n",
    "plt.title('Distribution of gender,13-17,all Mexico')\n",
    "\n",
    "ax = sns.histplot(df.sexo)\n",
    "ax.bar_label(ax.containers[0])\n",
    "\n",
    "plt.show()"
   ]
  },
  {
   "cell_type": "code",
   "execution_count": 24,
   "id": "3ac75fb7-d072-46e5-ab7b-43810a848a7d",
   "metadata": {},
   "outputs": [
    {
     "data": {
      "text/plain": [
       "Text(0.5, 1.0, 'Presuntas Edades')"
      ]
     },
     "execution_count": 24,
     "metadata": {},
     "output_type": "execute_result"
    },
    {
     "data": {
      "image/png": "[encoded data removed]",
      "text/plain": [
       "<Figure size 1800x576 with 2 Axes>"
      ]
     },
     "metadata": {},
     "output_type": "display_data"
    }
   ],
   "source": [
    "fig, axs = plt.subplots(1, 2,figsize=(25,8))\n",
    "\n",
    "fig.suptitle('Edades de desaparicion, 13 - 17')\n",
    "\n",
    "plotUno = sns.histplot(df.edad_calculada,discrete='True',ax=axs[0])\n",
    "plotUno.bar_label(plotUno.containers[0])\n",
    "axs[0].set_title('Edades Calculadas')\n",
    "\n",
    "plotDos = sns.histplot(df.edad,discrete='True',ax=axs[1])\n",
    "plotDos.bar_label(plotDos.containers[0])\n",
    "axs[1].set_title('Edades en registros')"
   ]
  },
  {
   "cell_type": "code",
   "execution_count": 25,
   "id": "81f6e39d-f8ba-4f30-8b07-abc5aa8ac58c",
   "metadata": {},
   "outputs": [
    {
     "data": {
      "image/png": "[encoded data removed]",
      "text/plain": [
       "<Figure size 576x576 with 1 Axes>"
      ]
     },
     "metadata": {},
     "output_type": "display_data"
    }
   ],
   "source": [
    "plt.figure(figsize=(8, 8))\n",
    "\n",
    "sns.set_style(\"ticks\")\n",
    "sns.set_context(\"talk\")\n",
    "\n",
    "plt.ylabel('Frequency')\n",
    "plt.xlabel('Status')\n",
    "plt.title('Distribution of located, 13-17, all Mexico')\n",
    "\n",
    "ax = sns.histplot(df.vivo_o_muerto)\n",
    "ax.bar_label(ax.containers[0])\n",
    "\n",
    "plt.show()"
   ]
  },
  {
   "cell_type": "code",
   "execution_count": 26,
   "id": "0c7babb8-24e4-467d-8a7d-282396e53cfb",
   "metadata": {},
   "outputs": [
    {
     "data": {
      "text/plain": [
       "vivo                 15025\n",
       "aun_sin_localizar     2740\n",
       "muerto                  55\n",
       "Name: vivo_o_muerto, dtype: int64"
      ]
     },
     "execution_count": 26,
     "metadata": {},
     "output_type": "execute_result"
    }
   ],
   "source": [
    "df[(df[\"sexo\"]==\"femenino\")].vivo_o_muerto.value_counts()"
   ]
  },
  {
   "cell_type": "code",
   "execution_count": 27,
   "id": "35aff385-b596-4df0-9e90-c5bc84b8ea34",
   "metadata": {},
   "outputs": [
    {
     "data": {
      "text/plain": [
       "vivo                 4234\n",
       "aun_sin_localizar    1501\n",
       "muerto                113\n",
       "Name: vivo_o_muerto, dtype: int64"
      ]
     },
     "execution_count": 27,
     "metadata": {},
     "output_type": "execute_result"
    }
   ],
   "source": [
    "df[(df[\"sexo\"]==\"masculino\")].vivo_o_muerto.value_counts()"
   ]
  },
  {
   "cell_type": "code",
   "execution_count": 28,
   "id": "8a16425d-2a27-40a0-bda1-454701aa7127",
   "metadata": {},
   "outputs": [
    {
     "data": {
      "image/png": "[encoded data removed]",
      "text/plain": [
       "<Figure size 576x576 with 1 Axes>"
      ]
     },
     "metadata": {},
     "output_type": "display_data"
    }
   ],
   "source": [
    "labels = ['vivos', 'muertos', 'no localizados']\n",
    "men_means = [4234,113,1501]\n",
    "women_means = [15025, 55, 2740]\n",
    "\n",
    "\n",
    "x = np.arange(len(labels))  # the label locations\n",
    "width = 0.35  # the width of the bars\n",
    "fig, ax = plt.subplots(figsize=(8,8))\n",
    "rects1 = ax.bar(x - width/2, men_means, width, label='Masculino')\n",
    "rects2 = ax.bar(x + width/2, women_means, width, label='Femenino')\n",
    "\n",
    "# Add some text for labels, title and custom x-axis tick labels, etc.\n",
    "ax.set_ylabel('Frequency')\n",
    "ax.set_title('13-17, todo México sexo x status')\n",
    "ax.set_xticks(x)\n",
    "ax.set_xticklabels(labels)\n",
    "ax.legend()\n",
    "\n",
    "\n",
    "def autolabel(rects):\n",
    "    \"\"\"Attach a text label above each bar in *rects*, displaying its height.\"\"\"\n",
    "    for rect in rects:\n",
    "        height = rect.get_height()\n",
    "        ax.annotate('{}'.format(height),\n",
    "                    xy=(rect.get_x() + rect.get_width() / 2, height),\n",
    "                    xytext=(0, 0), #(offset x, offset y)\n",
    "                    textcoords=\"offset points\",\n",
    "                    ha='center', va='bottom')\n",
    "\n",
    "\n",
    "autolabel(rects1)\n",
    "autolabel(rects2)\n",
    "\n",
    "fig.tight_layout()\n",
    "\n",
    "plt.show()"
   ]
  },
  {
   "cell_type": "code",
   "execution_count": 29,
   "id": "612f8a72-4f86-409f-ac51-4299441eae9e",
   "metadata": {},
   "outputs": [
    {
     "data": {
      "text/plain": [
       "no_especificado                     2635\n",
       "-1                                  1247\n",
       "otros_causas                        1031\n",
       "se_fue_con_su_novio                  994\n",
       "problemas_en_su_casa                 874\n",
       "rebeldia                             484\n",
       "se_fue_de_fiesta_con_amigos          473\n",
       "problemas_familiares                 467\n",
       "se_fue_con_el_novio                  244\n",
       "se_desconoce                         178\n",
       "por_su_propia_voluntad               172\n",
       "problemas_de_conducta                154\n",
       "ausencia_voluntaria_por_noviazgo     111\n",
       "por_problemas_familiares              98\n",
       "sin_dato                              93\n",
       "Name: posible_causa_desaparicion, dtype: int64"
      ]
     },
     "execution_count": 29,
     "metadata": {},
     "output_type": "execute_result"
    }
   ],
   "source": [
    "df.posible_causa_desaparicion.value_counts().head(15)"
   ]
  },
  {
   "cell_type": "code",
   "execution_count": 30,
   "id": "4be7490a-3325-40d7-9c63-4a5e97678e0d",
   "metadata": {},
   "outputs": [
    {
     "data": {
      "text/plain": [
       "no_especificado                            10144\n",
       "buen_estado_de_salud                        8817\n",
       "sin_dato                                     213\n",
       "golpes                                        61\n",
       "descomposición                                25\n",
       "tiro_de_gracia                                20\n",
       "violación                                     17\n",
       "postura_corporal_incómoda                      7\n",
       "maniatado                                      5\n",
       "ahogamiento                                    5\n",
       "asfixia                                        5\n",
       "quemaduras                                     4\n",
       "decapitado                                     4\n",
       "mutilado                                       3\n",
       "quemado_(no_es_lo_mismo_que_quemaduras)        3\n",
       "apuñalamiento                                  3\n",
       "baño_con_sustancia_química_caústica            3\n",
       "atado_de_pies_y_manos                          2\n",
       "ahorcamiento                                   2\n",
       "ingesta_de_producto_químico                    2\n",
       "arrastrado_con_vehículo                        1\n",
       "cortes                                         1\n",
       "asfixia_por_estrangulamiento                   1\n",
       "desfiguración                                  1\n",
       "Name: condicion_encontrado, dtype: int64"
      ]
     },
     "execution_count": 30,
     "metadata": {},
     "output_type": "execute_result"
    }
   ],
   "source": [
    "df.condicion_encontrado.value_counts()"
   ]
  },
  {
   "cell_type": "markdown",
   "id": "3e90ae50-30f6-42bc-a194-11fc6fa77c0b",
   "metadata": {},
   "source": [
    "## Exploracion por condicion = golpes"
   ]
  },
  {
   "cell_type": "code",
   "execution_count": 31,
   "id": "19c20e03-7a15-433e-aa82-03df488c39e8",
   "metadata": {},
   "outputs": [
    {
     "data": {
      "text/plain": [
       "edad  sexo     \n",
       "16.0  masculino    9\n",
       "17.0  masculino    9\n",
       "15.0  masculino    8\n",
       "      femenino     7\n",
       "16.0  femenino     7\n",
       "17.0  femenino     7\n",
       "13.0  femenino     4\n",
       "14.0  femenino     4\n",
       "13.0  masculino    3\n",
       "14.0  masculino    3\n",
       "dtype: int64"
      ]
     },
     "execution_count": 31,
     "metadata": {},
     "output_type": "execute_result"
    }
   ],
   "source": [
    "df[(df[\"condicion_encontrado\"] == \"golpes\")][['edad', 'sexo']].value_counts()"
   ]
  },
  {
   "cell_type": "code",
   "execution_count": 32,
   "id": "1f7c02cf-a6b3-44f1-8737-46b0f132b5bc",
   "metadata": {},
   "outputs": [
    {
     "data": {
      "text/plain": [
       "privacion_ilegal_de_la_libertad                                                                                                                                                                                                                                                                                                                                                                                                                                                                                                                                                                                                                                                                                                                   3\n",
       "no_especificado                                                                                                                                                                                                                                                                                                                                                                                                                                                                                                                                                                                                                                                                                                                                   2\n",
       "se_fue_con_su_pareja,_el_cual_la_maltrataba_y_quizo_abusar_sexualmente_de_ella.                                                                                                                                                                                                                                                                                                                                                                                                                                                                                                                                                                                                                                                                   1\n",
       "tuvo_una_accidente_en_la_carretera                                                                                                                                                                                                                                                                                                                                                                                                                                                                                                                                                                                                                                                                                                                1\n",
       "se_los_llevaron_unos_hombres_a_el_y_su_hermano_y_los_golpearon                                                                                                                                                                                                                                                                                                                                                                                                                                                                                                                                                                                                                                                                                    1\n",
       "lo_sacaron_de_la_escuela                                                                                                                                                                                                                                                                                                                                                                                                                                                                                                                                                                                                                                                                                                                          1\n",
       "celos_del_indiciado                                                                                                                                                                                                                                                                                                                                                                                                                                                                                                                                                                                                                                                                                                                               1\n",
       "un_dia_salio_de_su_casa_y_sus_familiares_no_supieron_de_el                                                                                                                                                                                                                                                                                                                                                                                                                                                                                                                                                                                                                                                                                        1\n",
       "se_fue_de_su_casa_con_la_intencion_de_trabajar                                                                                                                                                                                                                                                                                                                                                                                                                                                                                                                                                                                                                                                                                                    1\n",
       "secuestro                                                                                                                                                                                                                                                                                                                                                                                                                                                                                                                                                                                                                                                                                                                                         1\n",
       "fue_golpeado_por_personas_desconocidas.                                                                                                                                                                                                                                                                                                                                                                                                                                                                                                                                                                                                                                                                                                           1\n",
       "fue_privado_de_su_libertad_por_delito_de_un_delito_de_robo_del_cual_el_ofendido_dice_no_haber_cometido                                                                                                                                                                                                                                                                                                                                                                                                                                                                                                                                                                                                                                            1\n",
       "lo_levantaron_y_despues_de_un_rato_lo_golpearon_y_le_dejaron_tirado_y_se_regreso_a_su_casa                                                                                                                                                                                                                                                                                                                                                                                                                                                                                                                                                                                                                                                        1\n",
       "privacion_de_la_libertad_por_su_pareja                                                                                                                                                                                                                                                                                                                                                                                                                                                                                                                                                                                                                                                                                                            1\n",
       "robo                                                                                                                                                                                                                                                                                                                                                                                                                                                                                                                                                                                                                                                                                                                                              1\n",
       "tentativa_de_privacion_ilegal_de_la_libertad                                                                                                                                                                                                                                                                                                                                                                                                                                                                                                                                                                                                                                                                                                      1\n",
       "-1                                                                                                                                                                                                                                                                                                                                                                                                                                                                                                                                                                                                                                                                                                                                                1\n",
       "desconosco_el_motivo_por_el_que_fui_privado_segun_ellos_se_equivocaron                                                                                                                                                                                                                                                                                                                                                                                                                                                                                                                                                                                                                                                                            1\n",
       "privacion_ilegal_y_lesiones                                                                                                                                                                                                                                                                                                                                                                                                                                                                                                                                                                                                                                                                                                                       1\n",
       "privacion_de_la_libertad                                                                                                                                                                                                                                                                                                                                                                                                                                                                                                                                                                                                                                                                                                                          1\n",
       "se_los_llevaron_a_el_y_su_hermano_unos_hombres                                                                                                                                                                                                                                                                                                                                                                                                                                                                                                                                                                                                                                                                                                    1\n",
       "se_desconoce_el_motivo_por_el_cual_lo_privaron                                                                                                                                                                                                                                                                                                                                                                                                                                                                                                                                                                                                                                                                                                    1\n",
       "lo_privaron_de_la_libertad_y_se_escapo                                                                                                                                                                                                                                                                                                                                                                                                                                                                                                                                                                                                                                                                                                            1\n",
       "los_privaron_de_la_libertad_de_manera_forzoza_y_despues_los_dejaron_libres                                                                                                                                                                                                                                                                                                                                                                                                                                                                                                                                                                                                                                                                        1\n",
       "problemas_maritales                                                                                                                                                                                                                                                                                                                                                                                                                                                                                                                                                                                                                                                                                                                               1\n",
       "homicidio_doloso                                                                                                                                                                                                                                                                                                                                                                                                                                                                                                                                                                                                                                                                                                                                  1\n",
       "nos_quedamos_de_ver_una_muchacha_y_yo_en_la_iglesia_catedral,en_eso_llego_un_muchacho_como_de_unos_32_años,_de_tez_moreno,_diciéndome_que_si_prima_daysi_no_se_animo_a_bajarse_del_carro,_pero_que_me_dijera_que_fuera,_yo_le_dije_a_ese_muchacho..._ay_muere..._por_que_me_dio_desconfianza,_empezando_a_caminar_a_la_calle_escobedo_afuera_de_la_coppel_que_es_ahí_donde_tomo_el_camión_infonavit_las_flores_para_llegar_a_la_casa,_yo_no_me_di_cuenta_que_me__siguieron,_pero_cuando_esperaba_el_camión_llego_una_cherokee_,_color_gris_de_las_nuevas_y_se_bajaron_tres_sujetos_queriéndome_subir_a_la_fuerza_uno_de_ellos_me_mostro_una_pistola_y_me_subieron_a_la_cherokee_en_contra_de_mi_voluntad_una_vez_arriba_emperzaron_a_golpearme    1\n",
       "salio_de_su_casa_para_irse_con_el_novio                                                                                                                                                                                                                                                                                                                                                                                                                                                                                                                                                                                                                                                                                                           1\n",
       "se_fue_de_su_casa_porque_sus_familiares_la_golpeaban                                                                                                                                                                                                                                                                                                                                                                                                                                                                                                                                                                                                                                                                                              1\n",
       "les_ofrecieron_un_aventon_junto_con_sus_amigos_y_se_subieron_al_vehiculo_una_patrulla_los_siguio_y_no_queria_pararse_hasta_que_chocaron_y_fue_como_los_pudieron_liberar.                                                                                                                                                                                                                                                                                                                                                                                                                                                                                                                                                                          1\n",
       "la_privaron_de_manera_forzosa_y_la_dejaron_libre_en_el_estadio_de_futbol_de_esta_ciudad                                                                                                                                                                                                                                                                                                                                                                                                                                                                                                                                                                                                                                                           1\n",
       "se_lo_llevaron_varias_personas_en_contra_de_su_voluntad                                                                                                                                                                                                                                                                                                                                                                                                                                                                                                                                                                                                                                                                                           1\n",
       "sin_especificar                                                                                                                                                                                                                                                                                                                                                                                                                                                                                                                                                                                                                                                                                                                                   1\n",
       "dpor_que_su_mama_le_pega_mucho                                                                                                                                                                                                                                                                                                                                                                                                                                                                                                                                                                                                                                                                                                                    1\n",
       "se_fue_con_el_novio                                                                                                                                                                                                                                                                                                                                                                                                                                                                                                                                                                                                                                                                                                                               1\n",
       "Name: posible_causa_desaparicion, dtype: int64"
      ]
     },
     "execution_count": 32,
     "metadata": {},
     "output_type": "execute_result"
    }
   ],
   "source": [
    "df[(df[\"condicion_encontrado\"] == \"golpes\")].posible_causa_desaparicion.value_counts()"
   ]
  },
  {
   "cell_type": "code",
   "execution_count": 33,
   "id": "feaf9192-2244-4f96-a998-1a20d0ae968e",
   "metadata": {},
   "outputs": [
    {
     "data": {
      "text/plain": [
       "nuevo_leon         23\n",
       "sinaloa            16\n",
       "tamaulipas          8\n",
       "guerrero            5\n",
       "chihuahua           2\n",
       "quintana_roo        1\n",
       "veracruz            1\n",
       "baja_california     1\n",
       "nayarit             1\n",
       "sonora              1\n",
       "durango             1\n",
       "tabasco             1\n",
       "Name: estado, dtype: int64"
      ]
     },
     "execution_count": 33,
     "metadata": {},
     "output_type": "execute_result"
    }
   ],
   "source": [
    "df[(df[\"condicion_encontrado\"] == \"golpes\")].estado.value_counts()"
   ]
  },
  {
   "cell_type": "markdown",
   "id": "b5f41a48-9249-46e1-b7de-723da735bdac",
   "metadata": {},
   "source": [
    "## Exploracion por condicion = descomposicion"
   ]
  },
  {
   "cell_type": "code",
   "execution_count": 34,
   "id": "1a735d81-f54f-46d1-8d84-1660321438a9",
   "metadata": {},
   "outputs": [
    {
     "data": {
      "text/plain": [
       "edad  sexo     \n",
       "17.0  masculino    7\n",
       "16.0  femenino     5\n",
       "      masculino    5\n",
       "14.0  femenino     2\n",
       "15.0  masculino    2\n",
       "17.0  femenino     2\n",
       "14.0  masculino    1\n",
       "15.0  femenino     1\n",
       "dtype: int64"
      ]
     },
     "execution_count": 34,
     "metadata": {},
     "output_type": "execute_result"
    }
   ],
   "source": [
    "df[(df[\"condicion_encontrado\"] == \"descomposición\")][['edad', 'sexo']].value_counts()"
   ]
  },
  {
   "cell_type": "code",
   "execution_count": 35,
   "id": "9d3b6a77-b648-441f-bd93-972f9d23208e",
   "metadata": {},
   "outputs": [
    {
     "data": {
      "text/plain": [
       "-1                                                                                                                                                                                                          3\n",
       "no_especificado                                                                                                                                                                                             2\n",
       "fue_localizada_occisa_en_fosa_clandestina                                                                                                                                                                   1\n",
       "informa_la_madre_de_la_desaparecida_que_salio_a_la_iglesia_del_poblado_y_no_regreso_y_se_encontraron_los_restos_humanos_tipo_osamenta?,_?que_fueron_localizados_entre_los_surcos_de_?una_parcela_ejidal?    1\n",
       "muerte                                                                                                                                                                                                      1\n",
       "haberse_vinculado_con_la_delincuencia                                                                                                                                                                       1\n",
       "privado_de_la_vida.                                                                                                                                                                                         1\n",
       "fue_privada_de_la_vida._por_la_ausencia_de_signos_de_violencia_externa_no_es_posible_determinar_respecto_a_la_causa_de_muerte.                                                                              1\n",
       "se_salio_de_su_casa_porque_se_fue_a_vivir_con_su_novio_de_apodo_el_satanas_el_cual_se_encuentra_desaparecido                                                                                                1\n",
       "localizado_privado_de_la_vida._se_desconoce_la_causa_del_fallecimiento.                                                                                                                                     1\n",
       "se_desconoce._fue_localizado_muerto_en_estado_avanzado_de_putrefacción._por_traumatismo_craneoencefálico_por_fractura_de_boveda_craneal.                                                                    1\n",
       "Name: posible_causa_desaparicion, dtype: int64"
      ]
     },
     "execution_count": 35,
     "metadata": {},
     "output_type": "execute_result"
    }
   ],
   "source": [
    "df[(df[\"condicion_encontrado\"] == \"descomposición\")].posible_causa_desaparicion.value_counts()"
   ]
  },
  {
   "cell_type": "code",
   "execution_count": 36,
   "id": "c6173212-178c-4f81-9ccb-1415c10ee903",
   "metadata": {},
   "outputs": [
    {
     "data": {
      "text/plain": [
       "guerrero           8\n",
       "sinaloa            5\n",
       "chiapas            3\n",
       "colima             2\n",
       "zacatecas          2\n",
       "durango            1\n",
       "nuevo_leon         1\n",
       "no_especificado    1\n",
       "sonora             1\n",
       "guanajuato         1\n",
       "Name: estado, dtype: int64"
      ]
     },
     "execution_count": 36,
     "metadata": {},
     "output_type": "execute_result"
    }
   ],
   "source": [
    "df[(df[\"condicion_encontrado\"] == \"descomposición\")].estado.value_counts()"
   ]
  },
  {
   "cell_type": "markdown",
   "id": "4787499c-c5b8-4790-b52f-4bacb26dc542",
   "metadata": {},
   "source": [
    "## Exploracion por condicion = violacion"
   ]
  },
  {
   "cell_type": "code",
   "execution_count": 37,
   "id": "d64eb378-57cf-4645-b05c-e617788a5401",
   "metadata": {},
   "outputs": [
    {
     "data": {
      "text/plain": [
       "edad  sexo    \n",
       "15.0  femenino    7\n",
       "17.0  femenino    4\n",
       "14.0  femenino    3\n",
       "13.0  femenino    2\n",
       "16.0  femenino    1\n",
       "dtype: int64"
      ]
     },
     "execution_count": 37,
     "metadata": {},
     "output_type": "execute_result"
    }
   ],
   "source": [
    "df[(df[\"condicion_encontrado\"] == \"violación\")][['edad', 'sexo']].value_counts()"
   ]
  },
  {
   "cell_type": "code",
   "execution_count": 38,
   "id": "39e22fb4-04b8-4dac-9449-bc20b7848d5e",
   "metadata": {},
   "outputs": [
    {
     "data": {
      "text/plain": [
       "sinaloa         3\n",
       "tamaulipas      2\n",
       "quintana_roo    2\n",
       "durango         2\n",
       "jalisco         2\n",
       "sonora          2\n",
       "colima          1\n",
       "guerrero        1\n",
       "morelos         1\n",
       "chihuahua       1\n",
       "Name: estado, dtype: int64"
      ]
     },
     "execution_count": 38,
     "metadata": {},
     "output_type": "execute_result"
    }
   ],
   "source": [
    "df[(df[\"condicion_encontrado\"] == \"violación\")].estado.value_counts()"
   ]
  },
  {
   "cell_type": "markdown",
   "id": "794431a1-f79e-4186-98cc-ab635b402abf",
   "metadata": {},
   "source": [
    "## Tiempos"
   ]
  },
  {
   "cell_type": "code",
   "execution_count": 39,
   "id": "8c8b1f2c-98ee-4f92-aaf0-7a904a0faf99",
   "metadata": {},
   "outputs": [
    {
     "data": {
      "text/plain": [
       "0 days      1155\n",
       "1 days      1001\n",
       "2 days       512\n",
       "31 days      330\n",
       "3 days       306\n",
       "30 days      234\n",
       "61 days      220\n",
       "4 days       170\n",
       "5 days       106\n",
       "92 days      100\n",
       "6 days        79\n",
       "7 days        57\n",
       "59 days       48\n",
       "28 days       47\n",
       "8 days        42\n",
       "91 days       39\n",
       "122 days      39\n",
       "62 days       39\n",
       "90 days       37\n",
       "9 days        36\n",
       "Name: tiempo_perdido, dtype: int64"
      ]
     },
     "execution_count": 39,
     "metadata": {},
     "output_type": "execute_result"
    }
   ],
   "source": [
    "df.tiempo_perdido.value_counts().head(20)"
   ]
  },
  {
   "cell_type": "code",
   "execution_count": 40,
   "id": "c97cb374-87cc-46f7-959f-4b0565d1a549",
   "metadata": {},
   "outputs": [
    {
     "data": {
      "text/plain": [
       "0 days 00:00:00     599\n",
       "1 days 00:00:00     235\n",
       "2 days 00:00:00     138\n",
       "3 days 00:00:00     100\n",
       "4 days 00:00:00      72\n",
       "61 days 00:00:00     63\n",
       "31 days 00:00:00     60\n",
       "30 days 00:00:00     60\n",
       "0 days 04:00:00      56\n",
       "0 days 03:00:00      54\n",
       "0 days 02:00:00      53\n",
       "20 days 00:00:00     47\n",
       "6 days 00:00:00      43\n",
       "5 days 00:00:00      43\n",
       "0 days 05:00:00      41\n",
       "Name: dias_de_busqueda_reporte, dtype: int64"
      ]
     },
     "execution_count": 40,
     "metadata": {},
     "output_type": "execute_result"
    }
   ],
   "source": [
    "df.dias_de_busqueda_reporte.value_counts().head(15)"
   ]
  },
  {
   "cell_type": "code",
   "execution_count": 41,
   "id": "14f3bf60-1c82-4462-954b-98df8eab5cdb",
   "metadata": {},
   "outputs": [
    {
     "data": {
      "text/plain": [
       "0 days 00:00:00     251\n",
       "1 days 00:00:00     230\n",
       "2 days 00:00:00     180\n",
       "3 days 00:00:00     145\n",
       "4 days 00:00:00     107\n",
       "31 days 00:00:00    100\n",
       "5 days 00:00:00      82\n",
       "61 days 00:00:00     73\n",
       "6 days 00:00:00      63\n",
       "30 days 00:00:00     59\n",
       "1 days 03:00:00      56\n",
       "1 days 01:00:00      48\n",
       "7 days 00:00:00      46\n",
       "2 days 03:00:00      45\n",
       "8 days 00:00:00      43\n",
       "Name: dias_de_busqueda_evento, dtype: int64"
      ]
     },
     "execution_count": 41,
     "metadata": {},
     "output_type": "execute_result"
    }
   ],
   "source": [
    "df.dias_de_busqueda_evento.value_counts().head(15)"
   ]
  },
  {
   "cell_type": "code",
   "execution_count": 42,
   "id": "c62fe818-e509-4261-b00f-3d856a79b538",
   "metadata": {},
   "outputs": [
    {
     "data": {
      "image/png": "[encoded data removed]",
      "text/plain": [
       "<Figure size 1440x720 with 1 Axes>"
      ]
     },
     "metadata": {},
     "output_type": "display_data"
    }
   ],
   "source": [
    "plt.figure(figsize=(20,10))\n",
    "\n",
    "sns.set_style(\"ticks\")\n",
    "sns.set_context(\"talk\")\n",
    "\n",
    "sns.histplot(df[(df[\"vivo_o_muerto\"] == \"aun_sin_localizar\" )].year_reporte, label='No_localizados', alpha=0.5,linewidth=.8,discrete=\"true\",color=\"#fe218b\")\n",
    "sns.histplot(df[(df[\"vivo_o_muerto\"] == \"vivo\" )].year_reporte,label='Vivos', alpha=0.5,linewidth=.8,discrete=\"true\",color=\"#fed700\")\n",
    "sns.histplot(df[(df[\"vivo_o_muerto\"] == \"muerto\" )].year_reporte, label='Muertos', alpha=0.8,linewidth=.8,discrete=\"true\", color=\"#21b0fe\")\n",
    "\n",
    "plt.legend()\n",
    "\n",
    "plt.ylabel('Frequency')\n",
    "plt.xlabel('Year')\n",
    "plt.title('Situación General, 13-17, por año')\n",
    "\n",
    "plt.show()"
   ]
  },
  {
   "cell_type": "markdown",
   "id": "147cc360-2758-4aaa-b842-196865fc2746",
   "metadata": {},
   "source": [
    "## Data to export to Tableau"
   ]
  },
  {
   "cell_type": "code",
   "execution_count": 43,
   "id": "2e638d84-9159-4188-8b71-151d7afe8b4d",
   "metadata": {},
   "outputs": [
    {
     "data": {
      "text/plain": [
       "guanajuato             4796\n",
       "mexico                 3566\n",
       "chihuahua              1470\n",
       "puebla                 1443\n",
       "sinaloa                1277\n",
       "baja_california        1214\n",
       "aguascalientes         1192\n",
       "colima                  807\n",
       "tamaulipas              797\n",
       "nuevo_leon              702\n",
       "quintana_roo            662\n",
       "ciudad_de_mexico        588\n",
       "queretaro               582\n",
       "sonora                  575\n",
       "chiapas                 554\n",
       "guerrero                446\n",
       "jalisco                 373\n",
       "campeche                369\n",
       "michoacan               341\n",
       "hidalgo                 328\n",
       "durango                 311\n",
       "veracruz                286\n",
       "yucatan                 234\n",
       "morelos                 225\n",
       "tabasco                 182\n",
       "oaxaca                  106\n",
       "coahuila                 71\n",
       "zacatecas                70\n",
       "tlaxcala                 37\n",
       "no_especificado          27\n",
       "nayarit                  19\n",
       "san_luis_potosi          15\n",
       "baja_california_sur       3\n",
       "Name: estado, dtype: int64"
      ]
     },
     "execution_count": 43,
     "metadata": {},
     "output_type": "execute_result"
    }
   ],
   "source": [
    "df.estado.value_counts()"
   ]
  },
  {
   "cell_type": "code",
   "execution_count": 44,
   "id": "d3c51c14-b14a-4bb8-871c-39c3e96712bd",
   "metadata": {},
   "outputs": [
    {
     "data": {
      "text/plain": [
       "guanajuato             4.136215\n",
       "mexico                 2.888898\n",
       "chihuahua              0.763387\n",
       "puebla                 0.736007\n",
       "sinaloa                0.567669\n",
       "baja_california        0.503782\n",
       "aguascalientes         0.481473\n",
       "colima                 0.091052\n",
       "tamaulipas             0.080911\n",
       "nuevo_leon            -0.015426\n",
       "quintana_roo          -0.055989\n",
       "ciudad_de_mexico      -0.131031\n",
       "queretaro             -0.137116\n",
       "sonora                -0.144214\n",
       "chiapas               -0.165510\n",
       "guerrero              -0.275031\n",
       "jalisco               -0.349058\n",
       "campeche              -0.353115\n",
       "michoacan             -0.381509\n",
       "hidalgo               -0.394692\n",
       "durango               -0.411931\n",
       "veracruz              -0.437283\n",
       "yucatan               -0.490016\n",
       "morelos               -0.499142\n",
       "tabasco               -0.542748\n",
       "oaxaca                -0.619818\n",
       "coahuila              -0.655311\n",
       "zacatecas             -0.656325\n",
       "tlaxcala              -0.689789\n",
       "no_especificado       -0.699930\n",
       "nayarit               -0.708043\n",
       "san_luis_potosi       -0.712099\n",
       "baja_california_sur   -0.724268\n",
       "Name: estado, dtype: float64"
      ]
     },
     "execution_count": 44,
     "metadata": {},
     "output_type": "execute_result"
    }
   ],
   "source": [
    "import scipy.stats as stats\n",
    "stats.zscore(df.estado.value_counts())"
   ]
  },
  {
   "cell_type": "code",
   "execution_count": 45,
   "id": "9e941658-bce4-4035-bc3b-a5a57d399585",
   "metadata": {},
   "outputs": [],
   "source": [
    "df.rename(columns = {'estado_(localizado)':'estado_localizado'}, inplace = True)\n",
    "df['estado_localizado']= df['estado_localizado'].replace('estado_de_mexico','mexico')\n",
    "df.to_csv('13-17_usable.csv', index=False)"
   ]
  },
  {
   "cell_type": "markdown",
   "id": "996bf3e5-0572-4687-8db8-d4b5215f1f0b",
   "metadata": {},
   "source": [
    "# BUSQUEDA SOFIA"
   ]
  },
  {
   "cell_type": "code",
   "execution_count": 46,
   "id": "ffa70cd4-a53b-4843-b3c7-1a284fa3e53a",
   "metadata": {},
   "outputs": [],
   "source": [
    "df = pd.read_csv('13-17_usable.csv')"
   ]
  },
  {
   "cell_type": "code",
   "execution_count": 47,
   "id": "4a643637-defd-430f-a432-342aab226892",
   "metadata": {},
   "outputs": [
    {
     "data": {
      "text/html": [
       "<div>\n",
       "<style scoped>\n",
       "    .dataframe tbody tr th:only-of-type {\n",
       "        vertical-align: middle;\n",
       "    }\n",
       "\n",
       "    .dataframe tbody tr th {\n",
       "        vertical-align: top;\n",
       "    }\n",
       "\n",
       "    .dataframe thead th {\n",
       "        text-align: right;\n",
       "    }\n",
       "</style>\n",
       "<table border=\"1\" class=\"dataframe\">\n",
       "  <thead>\n",
       "    <tr style=\"text-align: right;\">\n",
       "      <th></th>\n",
       "      <th>registro_nacional</th>\n",
       "      <th>fecha_reporte</th>\n",
       "      <th>fecha_evento</th>\n",
       "      <th>estado</th>\n",
       "      <th>clave_estado</th>\n",
       "      <th>municipio</th>\n",
       "      <th>clave_municipio</th>\n",
       "      <th>nacionalidad</th>\n",
       "      <th>estatus_migratorio</th>\n",
       "      <th>sexo</th>\n",
       "      <th>...</th>\n",
       "      <th>clasificacion_causal</th>\n",
       "      <th>causal</th>\n",
       "      <th>year_reporte</th>\n",
       "      <th>year_evento</th>\n",
       "      <th>dias_de_busqueda_reporte</th>\n",
       "      <th>dias_de_busqueda_evento</th>\n",
       "      <th>year_birthday</th>\n",
       "      <th>edad_calculada</th>\n",
       "      <th>dif_edad</th>\n",
       "      <th>tiempo_perdido</th>\n",
       "    </tr>\n",
       "  </thead>\n",
       "  <tbody>\n",
       "    <tr>\n",
       "      <th>492</th>\n",
       "      <td>desaparecido</td>\n",
       "      <td>2011-09-01 12:00:00</td>\n",
       "      <td>2011-08-01 12:00:00</td>\n",
       "      <td>ciudad_de_mexico</td>\n",
       "      <td>9</td>\n",
       "      <td>azcapotzalco</td>\n",
       "      <td>2</td>\n",
       "      <td>mexicana</td>\n",
       "      <td>no_especificado</td>\n",
       "      <td>femenino</td>\n",
       "      <td>...</td>\n",
       "      <td>_</td>\n",
       "      <td>_</td>\n",
       "      <td>2011</td>\n",
       "      <td>2011</td>\n",
       "      <td>NaN</td>\n",
       "      <td>NaN</td>\n",
       "      <td>NaN</td>\n",
       "      <td>NaN</td>\n",
       "      <td>NaN</td>\n",
       "      <td>31 days 00:00:00</td>\n",
       "    </tr>\n",
       "    <tr>\n",
       "      <th>502</th>\n",
       "      <td>desaparecido</td>\n",
       "      <td>2011-06-12 12:00:00</td>\n",
       "      <td>2011-02-12 12:00:00</td>\n",
       "      <td>ciudad_de_mexico</td>\n",
       "      <td>9</td>\n",
       "      <td>iztacalco</td>\n",
       "      <td>6</td>\n",
       "      <td>mexicana</td>\n",
       "      <td>no_especificado</td>\n",
       "      <td>femenino</td>\n",
       "      <td>...</td>\n",
       "      <td>_</td>\n",
       "      <td>_</td>\n",
       "      <td>2011</td>\n",
       "      <td>2011</td>\n",
       "      <td>NaN</td>\n",
       "      <td>NaN</td>\n",
       "      <td>NaN</td>\n",
       "      <td>NaN</td>\n",
       "      <td>NaN</td>\n",
       "      <td>120 days 00:00:00</td>\n",
       "    </tr>\n",
       "    <tr>\n",
       "      <th>628</th>\n",
       "      <td>desaparecido</td>\n",
       "      <td>2012-09-22 04:06:00</td>\n",
       "      <td>2012-09-21 12:00:00</td>\n",
       "      <td>ciudad_de_mexico</td>\n",
       "      <td>9</td>\n",
       "      <td>tlalpan</td>\n",
       "      <td>12</td>\n",
       "      <td>mexicana</td>\n",
       "      <td>no_especificado</td>\n",
       "      <td>femenino</td>\n",
       "      <td>...</td>\n",
       "      <td>_</td>\n",
       "      <td>_</td>\n",
       "      <td>2012</td>\n",
       "      <td>2012</td>\n",
       "      <td>2 days 07:54:00</td>\n",
       "      <td>3 days 00:00:00</td>\n",
       "      <td>NaN</td>\n",
       "      <td>NaN</td>\n",
       "      <td>NaN</td>\n",
       "      <td>0 days 16:06:00</td>\n",
       "    </tr>\n",
       "    <tr>\n",
       "      <th>673</th>\n",
       "      <td>desaparecido</td>\n",
       "      <td>2011-04-04 12:00:00</td>\n",
       "      <td>2011-01-17 12:00:00</td>\n",
       "      <td>ciudad_de_mexico</td>\n",
       "      <td>9</td>\n",
       "      <td>no_especificado</td>\n",
       "      <td>0</td>\n",
       "      <td>mexicana</td>\n",
       "      <td>no_especificado</td>\n",
       "      <td>femenino</td>\n",
       "      <td>...</td>\n",
       "      <td>_</td>\n",
       "      <td>_</td>\n",
       "      <td>2011</td>\n",
       "      <td>2011</td>\n",
       "      <td>NaN</td>\n",
       "      <td>NaN</td>\n",
       "      <td>NaN</td>\n",
       "      <td>NaN</td>\n",
       "      <td>NaN</td>\n",
       "      <td>77 days 00:00:00</td>\n",
       "    </tr>\n",
       "    <tr>\n",
       "      <th>700</th>\n",
       "      <td>desaparecido</td>\n",
       "      <td>2011-07-23 12:00:00</td>\n",
       "      <td>2011-07-19 12:00:00</td>\n",
       "      <td>ciudad_de_mexico</td>\n",
       "      <td>9</td>\n",
       "      <td>alvaro_obregon</td>\n",
       "      <td>10</td>\n",
       "      <td>mexicana</td>\n",
       "      <td>no_especificado</td>\n",
       "      <td>femenino</td>\n",
       "      <td>...</td>\n",
       "      <td>_</td>\n",
       "      <td>_</td>\n",
       "      <td>2011</td>\n",
       "      <td>2011</td>\n",
       "      <td>NaN</td>\n",
       "      <td>NaN</td>\n",
       "      <td>NaN</td>\n",
       "      <td>NaN</td>\n",
       "      <td>NaN</td>\n",
       "      <td>4 days 00:00:00</td>\n",
       "    </tr>\n",
       "  </tbody>\n",
       "</table>\n",
       "<p>5 rows × 78 columns</p>\n",
       "</div>"
      ],
      "text/plain": [
       "    registro_nacional        fecha_reporte         fecha_evento  \\\n",
       "492      desaparecido  2011-09-01 12:00:00  2011-08-01 12:00:00   \n",
       "502      desaparecido  2011-06-12 12:00:00  2011-02-12 12:00:00   \n",
       "628      desaparecido  2012-09-22 04:06:00  2012-09-21 12:00:00   \n",
       "673      desaparecido  2011-04-04 12:00:00  2011-01-17 12:00:00   \n",
       "700      desaparecido  2011-07-23 12:00:00  2011-07-19 12:00:00   \n",
       "\n",
       "               estado clave_estado        municipio clave_municipio  \\\n",
       "492  ciudad_de_mexico            9     azcapotzalco               2   \n",
       "502  ciudad_de_mexico            9        iztacalco               6   \n",
       "628  ciudad_de_mexico            9          tlalpan              12   \n",
       "673  ciudad_de_mexico            9  no_especificado               0   \n",
       "700  ciudad_de_mexico            9   alvaro_obregon              10   \n",
       "\n",
       "    nacionalidad estatus_migratorio      sexo  ... clasificacion_causal  \\\n",
       "492     mexicana    no_especificado  femenino  ...                    _   \n",
       "502     mexicana    no_especificado  femenino  ...                    _   \n",
       "628     mexicana    no_especificado  femenino  ...                    _   \n",
       "673     mexicana    no_especificado  femenino  ...                    _   \n",
       "700     mexicana    no_especificado  femenino  ...                    _   \n",
       "\n",
       "     causal year_reporte year_evento dias_de_busqueda_reporte  \\\n",
       "492       _         2011        2011                      NaN   \n",
       "502       _         2011        2011                      NaN   \n",
       "628       _         2012        2012          2 days 07:54:00   \n",
       "673       _         2011        2011                      NaN   \n",
       "700       _         2011        2011                      NaN   \n",
       "\n",
       "    dias_de_busqueda_evento year_birthday edad_calculada dif_edad  \\\n",
       "492                     NaN           NaN            NaN      NaN   \n",
       "502                     NaN           NaN            NaN      NaN   \n",
       "628         3 days 00:00:00           NaN            NaN      NaN   \n",
       "673                     NaN           NaN            NaN      NaN   \n",
       "700                     NaN           NaN            NaN      NaN   \n",
       "\n",
       "        tiempo_perdido  \n",
       "492   31 days 00:00:00  \n",
       "502  120 days 00:00:00  \n",
       "628    0 days 16:06:00  \n",
       "673   77 days 00:00:00  \n",
       "700    4 days 00:00:00  \n",
       "\n",
       "[5 rows x 78 columns]"
      ]
     },
     "execution_count": 47,
     "metadata": {},
     "output_type": "execute_result"
    }
   ],
   "source": [
    "df = df[(df[\"sexo\"]==\"femenino\") ]\n",
    "df = df[(df[\"estado\"]==\"ciudad_de_mexico\") ]\n",
    "df = df[(df[\"edad\"]==16) ]\n",
    "df.head()"
   ]
  },
  {
   "cell_type": "code",
   "execution_count": 48,
   "id": "39e2b799-89b9-48f4-b816-502f9dee52f6",
   "metadata": {},
   "outputs": [
    {
     "data": {
      "text/plain": [
       "-4012 days +00:00:00    2\n",
       "69 days 00:00:00        2\n",
       "3 days 00:00:00         1\n",
       "-44 days +00:00:00      1\n",
       "11 days 00:00:00        1\n",
       "-4007 days +00:00:00    1\n",
       "32 days 00:00:00        1\n",
       "6 days 00:00:00         1\n",
       "-18 days +00:00:00      1\n",
       "29 days 00:00:00        1\n",
       "Name: dias_de_busqueda_evento, dtype: int64"
      ]
     },
     "execution_count": 48,
     "metadata": {},
     "output_type": "execute_result"
    }
   ],
   "source": [
    "df.dias_de_busqueda_evento.value_counts().head(10)"
   ]
  },
  {
   "cell_type": "code",
   "execution_count": 49,
   "id": "2d148541-c841-448c-9781-eb781976ce8b",
   "metadata": {},
   "outputs": [
    {
     "data": {
      "text/plain": [
       "114 days 00:00:00       2\n",
       "0 days 00:00:00         2\n",
       "2 days 07:54:00         1\n",
       "-68 days +00:00:00      1\n",
       "-4010 days +00:00:00    1\n",
       "27 days 00:00:00        1\n",
       "5 days 00:00:00         1\n",
       "64 days 00:00:00        1\n",
       "28 days 00:00:00        1\n",
       "147 days 00:00:00       1\n",
       "Name: dias_de_busqueda_reporte, dtype: int64"
      ]
     },
     "execution_count": 49,
     "metadata": {},
     "output_type": "execute_result"
    }
   ],
   "source": [
    "df.dias_de_busqueda_reporte.value_counts().head(10)"
   ]
  },
  {
   "cell_type": "code",
   "execution_count": 50,
   "id": "c66c27f2-a070-4687-b1ff-73ec128a215a",
   "metadata": {},
   "outputs": [],
   "source": [
    "df.to_csv('busqueda.csv', index=False)"
   ]
  },
  {
   "cell_type": "code",
   "execution_count": 51,
   "id": "05b313c2-ebac-49ec-8959-dc3490ae4bdd",
   "metadata": {},
   "outputs": [
    {
     "data": {
      "text/plain": [
       "no_especificado     50\n",
       "noviazgo             2\n",
       "no_especiifcado      1\n",
       "no_especifica        1\n",
       "sin_especificar      1\n",
       "no_esppecificado     1\n",
       "no_especifcado       1\n",
       "Name: posible_causa_desaparicion, dtype: int64"
      ]
     },
     "execution_count": 51,
     "metadata": {},
     "output_type": "execute_result"
    }
   ],
   "source": [
    "df.posible_causa_desaparicion.value_counts()"
   ]
  },
  {
   "cell_type": "code",
   "execution_count": 52,
   "id": "333b0889-5833-4a28-ba81-dbdd66b2a3c1",
   "metadata": {},
   "outputs": [
    {
     "data": {
      "text/plain": [
       "no_especificado     70\n",
       "distrito_federal    15\n",
       "mexico               2\n",
       "Name: estado_localizado, dtype: int64"
      ]
     },
     "execution_count": 52,
     "metadata": {},
     "output_type": "execute_result"
    }
   ],
   "source": [
    "df.estado_localizado.value_counts()"
   ]
  },
  {
   "cell_type": "code",
   "execution_count": 53,
   "id": "f08bd09e-46a4-4c06-9f32-35a65568b634",
   "metadata": {},
   "outputs": [
    {
     "data": {
      "text/plain": [
       "492    2011\n",
       "502    2011\n",
       "628    2012\n",
       "673    2011\n",
       "700    2011\n",
       "Name: year_reporte, dtype: int64"
      ]
     },
     "execution_count": 53,
     "metadata": {},
     "output_type": "execute_result"
    }
   ],
   "source": [
    "df.year_reporte.head()"
   ]
  },
  {
   "cell_type": "code",
   "execution_count": 54,
   "id": "d45bf55b-4f6f-4f5e-8fc7-bbf52a4093b6",
   "metadata": {},
   "outputs": [],
   "source": [
    "df = df[(df['year_reporte'] > 2016)]"
   ]
  }
 ],
 "metadata": {
  "kernelspec": {
   "display_name": "Python 3 (ipykernel)",
   "language": "python",
   "name": "python3"
  },
  "language_info": {
   "codemirror_mode": {
    "name": "ipython",
    "version": 3
   },
   "file_extension": ".py",
   "mimetype": "text/x-python",
   "name": "python",
   "nbconvert_exporter": "python",
   "pygments_lexer": "ipython3",
   "version": "3.10.9"
  }
 },
 "nbformat": 4,
 "nbformat_minor": 5
}
