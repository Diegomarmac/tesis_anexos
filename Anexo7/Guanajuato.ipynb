{
 "cells": [
  {
   "cell_type": "markdown",
   "id": "0ee97a72-c37d-4311-8e69-78ab05070c21",
   "metadata": {},
   "source": [
    "# Guanajuato Overview"
   ]
  },
  {
   "cell_type": "code",
   "execution_count": 1,
   "id": "d6e355c9-3c7e-493a-bb0b-e6a88f775f61",
   "metadata": {},
   "outputs": [],
   "source": [
    "from IPython.display import display\n",
    "\n",
    "import numpy as np\n",
    "import pandas as pd\n",
    "\n",
    "from matplotlib import pyplot as plt\n",
    "import seaborn as sns\n",
    "%matplotlib inline"
   ]
  },
  {
   "cell_type": "code",
   "execution_count": 2,
   "id": "418e474f-c702-40fc-a6a8-25153d013ed8",
   "metadata": {},
   "outputs": [
    {
     "name": "stderr",
     "output_type": "stream",
     "text": [
      "C:\\Users\\Diego\\AppData\\Local\\Temp\\ipykernel_12048\\1425739908.py:1: DtypeWarning: Columns (5,7,35) have mixed types. Specify dtype option on import or set low_memory=False.\n",
      "  df = pd.read_csv('../data/con_inconsistencias/general/full.csv')\n"
     ]
    }
   ],
   "source": [
    "df = pd.read_csv('../data/con_inconsistencias/general/full.csv')\n",
    "del df[\"Unnamed: 0\"]\n",
    "\n",
    "for element in ['fecha_reporte', 'fecha_evento', 'fecha_de_ultimo_avistamiento','fecha_de_ingreso',  'fecha_de_localizacion','fecha_probable_de_fallecimiento']:\n",
    "    df[element] = pd.to_datetime(df[element],errors=\"coerce\") # el errors coerce, tomará todos los errores en fechas como NaT, con lo que vemos inconcistencias"
   ]
  },
  {
   "cell_type": "code",
   "execution_count": 3,
   "id": "d6dd95c2-9cd9-42ec-a133-c6be0f05981f",
   "metadata": {},
   "outputs": [
    {
     "data": {
      "text/html": [
       "<div>\n",
       "<style scoped>\n",
       "    .dataframe tbody tr th:only-of-type {\n",
       "        vertical-align: middle;\n",
       "    }\n",
       "\n",
       "    .dataframe tbody tr th {\n",
       "        vertical-align: top;\n",
       "    }\n",
       "\n",
       "    .dataframe thead th {\n",
       "        text-align: right;\n",
       "    }\n",
       "</style>\n",
       "<table border=\"1\" class=\"dataframe\">\n",
       "  <thead>\n",
       "    <tr style=\"text-align: right;\">\n",
       "      <th></th>\n",
       "      <th>228</th>\n",
       "      <th>1637</th>\n",
       "      <th>2332</th>\n",
       "      <th>4012</th>\n",
       "      <th>6950</th>\n",
       "      <th>9142</th>\n",
       "      <th>14601</th>\n",
       "      <th>14602</th>\n",
       "      <th>14603</th>\n",
       "      <th>14606</th>\n",
       "      <th>...</th>\n",
       "      <th>98630</th>\n",
       "      <th>98631</th>\n",
       "      <th>98774</th>\n",
       "      <th>98775</th>\n",
       "      <th>98776</th>\n",
       "      <th>98777</th>\n",
       "      <th>98842</th>\n",
       "      <th>98843</th>\n",
       "      <th>98844</th>\n",
       "      <th>99090</th>\n",
       "    </tr>\n",
       "  </thead>\n",
       "  <tbody>\n",
       "    <tr>\n",
       "      <th>registro_nacional</th>\n",
       "      <td>desaparecido</td>\n",
       "      <td>desaparecido</td>\n",
       "      <td>desaparecido</td>\n",
       "      <td>desaparecido</td>\n",
       "      <td>desaparecido</td>\n",
       "      <td>desaparecido</td>\n",
       "      <td>desaparecido</td>\n",
       "      <td>desaparecido</td>\n",
       "      <td>desaparecido</td>\n",
       "      <td>desaparecido</td>\n",
       "      <td>...</td>\n",
       "      <td>desaparecido</td>\n",
       "      <td>desaparecido</td>\n",
       "      <td>desaparecido</td>\n",
       "      <td>desaparecido</td>\n",
       "      <td>desaparecido</td>\n",
       "      <td>desaparecido</td>\n",
       "      <td>desaparecido</td>\n",
       "      <td>desaparecido</td>\n",
       "      <td>desaparecido</td>\n",
       "      <td>desaparecido</td>\n",
       "    </tr>\n",
       "    <tr>\n",
       "      <th>fecha_reporte</th>\n",
       "      <td>2011-04-16 12:00:00</td>\n",
       "      <td>2011-03-19 03:28:00</td>\n",
       "      <td>2007-08-13 12:00:00</td>\n",
       "      <td>2011-03-27 11:59:00</td>\n",
       "      <td>2012-04-09 12:00:00</td>\n",
       "      <td>2011-01-09 12:00:00</td>\n",
       "      <td>2009-08-27 12:00:00</td>\n",
       "      <td>2009-09-27 09:13:00</td>\n",
       "      <td>2009-01-02 07:00:00</td>\n",
       "      <td>2009-02-17 10:00:00</td>\n",
       "      <td>...</td>\n",
       "      <td>2018-01-20 09:37:04</td>\n",
       "      <td>2018-08-01 07:00:00</td>\n",
       "      <td>2018-02-17 02:53:15</td>\n",
       "      <td>2018-02-19 08:35:57</td>\n",
       "      <td>2018-02-20 02:41:06</td>\n",
       "      <td>2018-02-28 10:25:56</td>\n",
       "      <td>2018-03-22 05:12:47</td>\n",
       "      <td>2018-03-27 01:10:35</td>\n",
       "      <td>2018-03-23 11:57:33</td>\n",
       "      <td>2018-04-25 04:00:00</td>\n",
       "    </tr>\n",
       "    <tr>\n",
       "      <th>fecha_evento</th>\n",
       "      <td>2011-12-04 11:00:00</td>\n",
       "      <td>2011-05-01 12:00:00</td>\n",
       "      <td>2007-08-13 12:00:00</td>\n",
       "      <td>2011-03-27 04:30:00</td>\n",
       "      <td>2012-08-31 12:00:00</td>\n",
       "      <td>2011-01-09 12:00:00</td>\n",
       "      <td>2009-08-22 12:00:00</td>\n",
       "      <td>2009-09-27 09:13:00</td>\n",
       "      <td>2008-12-26 07:00:00</td>\n",
       "      <td>2009-07-02 10:00:00</td>\n",
       "      <td>...</td>\n",
       "      <td>2018-01-15 12:00:00</td>\n",
       "      <td>2018-04-01 07:00:00</td>\n",
       "      <td>2018-02-15 12:00:00</td>\n",
       "      <td>2018-02-17 05:00:00</td>\n",
       "      <td>2018-02-20 02:00:00</td>\n",
       "      <td>2018-02-26 09:30:00</td>\n",
       "      <td>2018-03-22 02:00:00</td>\n",
       "      <td>2018-03-17 12:00:00</td>\n",
       "      <td>2018-03-22 10:00:00</td>\n",
       "      <td>2018-04-22 04:00:00</td>\n",
       "    </tr>\n",
       "    <tr>\n",
       "      <th>estado</th>\n",
       "      <td>guanajuato</td>\n",
       "      <td>guanajuato</td>\n",
       "      <td>guanajuato</td>\n",
       "      <td>guanajuato</td>\n",
       "      <td>guanajuato</td>\n",
       "      <td>guanajuato</td>\n",
       "      <td>guanajuato</td>\n",
       "      <td>guanajuato</td>\n",
       "      <td>guanajuato</td>\n",
       "      <td>guanajuato</td>\n",
       "      <td>...</td>\n",
       "      <td>guanajuato</td>\n",
       "      <td>guanajuato</td>\n",
       "      <td>guanajuato</td>\n",
       "      <td>guanajuato</td>\n",
       "      <td>guanajuato</td>\n",
       "      <td>guanajuato</td>\n",
       "      <td>guanajuato</td>\n",
       "      <td>guanajuato</td>\n",
       "      <td>guanajuato</td>\n",
       "      <td>guanajuato</td>\n",
       "    </tr>\n",
       "    <tr>\n",
       "      <th>clave_estado</th>\n",
       "      <td>11</td>\n",
       "      <td>11</td>\n",
       "      <td>11</td>\n",
       "      <td>11</td>\n",
       "      <td>11</td>\n",
       "      <td>11</td>\n",
       "      <td>11</td>\n",
       "      <td>11</td>\n",
       "      <td>11</td>\n",
       "      <td>11</td>\n",
       "      <td>...</td>\n",
       "      <td>NaN</td>\n",
       "      <td>NaN</td>\n",
       "      <td>NaN</td>\n",
       "      <td>NaN</td>\n",
       "      <td>NaN</td>\n",
       "      <td>NaN</td>\n",
       "      <td>NaN</td>\n",
       "      <td>NaN</td>\n",
       "      <td>NaN</td>\n",
       "      <td>NaN</td>\n",
       "    </tr>\n",
       "  </tbody>\n",
       "</table>\n",
       "<p>5 rows × 13724 columns</p>\n",
       "</div>"
      ],
      "text/plain": [
       "                                 228                  1637   \\\n",
       "registro_nacional         desaparecido         desaparecido   \n",
       "fecha_reporte      2011-04-16 12:00:00  2011-03-19 03:28:00   \n",
       "fecha_evento       2011-12-04 11:00:00  2011-05-01 12:00:00   \n",
       "estado                      guanajuato           guanajuato   \n",
       "clave_estado                        11                   11   \n",
       "\n",
       "                                 2332                 4012   \\\n",
       "registro_nacional         desaparecido         desaparecido   \n",
       "fecha_reporte      2007-08-13 12:00:00  2011-03-27 11:59:00   \n",
       "fecha_evento       2007-08-13 12:00:00  2011-03-27 04:30:00   \n",
       "estado                      guanajuato           guanajuato   \n",
       "clave_estado                        11                   11   \n",
       "\n",
       "                                 6950                 9142   \\\n",
       "registro_nacional         desaparecido         desaparecido   \n",
       "fecha_reporte      2012-04-09 12:00:00  2011-01-09 12:00:00   \n",
       "fecha_evento       2012-08-31 12:00:00  2011-01-09 12:00:00   \n",
       "estado                      guanajuato           guanajuato   \n",
       "clave_estado                        11                   11   \n",
       "\n",
       "                                 14601                14602  \\\n",
       "registro_nacional         desaparecido         desaparecido   \n",
       "fecha_reporte      2009-08-27 12:00:00  2009-09-27 09:13:00   \n",
       "fecha_evento       2009-08-22 12:00:00  2009-09-27 09:13:00   \n",
       "estado                      guanajuato           guanajuato   \n",
       "clave_estado                        11                   11   \n",
       "\n",
       "                                 14603                14606  ...  \\\n",
       "registro_nacional         desaparecido         desaparecido  ...   \n",
       "fecha_reporte      2009-01-02 07:00:00  2009-02-17 10:00:00  ...   \n",
       "fecha_evento       2008-12-26 07:00:00  2009-07-02 10:00:00  ...   \n",
       "estado                      guanajuato           guanajuato  ...   \n",
       "clave_estado                        11                   11  ...   \n",
       "\n",
       "                                 98630                98631  \\\n",
       "registro_nacional         desaparecido         desaparecido   \n",
       "fecha_reporte      2018-01-20 09:37:04  2018-08-01 07:00:00   \n",
       "fecha_evento       2018-01-15 12:00:00  2018-04-01 07:00:00   \n",
       "estado                      guanajuato           guanajuato   \n",
       "clave_estado                       NaN                  NaN   \n",
       "\n",
       "                                 98774                98775  \\\n",
       "registro_nacional         desaparecido         desaparecido   \n",
       "fecha_reporte      2018-02-17 02:53:15  2018-02-19 08:35:57   \n",
       "fecha_evento       2018-02-15 12:00:00  2018-02-17 05:00:00   \n",
       "estado                      guanajuato           guanajuato   \n",
       "clave_estado                       NaN                  NaN   \n",
       "\n",
       "                                 98776                98777  \\\n",
       "registro_nacional         desaparecido         desaparecido   \n",
       "fecha_reporte      2018-02-20 02:41:06  2018-02-28 10:25:56   \n",
       "fecha_evento       2018-02-20 02:00:00  2018-02-26 09:30:00   \n",
       "estado                      guanajuato           guanajuato   \n",
       "clave_estado                       NaN                  NaN   \n",
       "\n",
       "                                 98842                98843  \\\n",
       "registro_nacional         desaparecido         desaparecido   \n",
       "fecha_reporte      2018-03-22 05:12:47  2018-03-27 01:10:35   \n",
       "fecha_evento       2018-03-22 02:00:00  2018-03-17 12:00:00   \n",
       "estado                      guanajuato           guanajuato   \n",
       "clave_estado                       NaN                  NaN   \n",
       "\n",
       "                                 98844                99090  \n",
       "registro_nacional         desaparecido         desaparecido  \n",
       "fecha_reporte      2018-03-23 11:57:33  2018-04-25 04:00:00  \n",
       "fecha_evento       2018-03-22 10:00:00  2018-04-22 04:00:00  \n",
       "estado                      guanajuato           guanajuato  \n",
       "clave_estado                       NaN                  NaN  \n",
       "\n",
       "[5 rows x 13724 columns]"
      ]
     },
     "execution_count": 3,
     "metadata": {},
     "output_type": "execute_result"
    }
   ],
   "source": [
    "guanajuato = df[df[\"estado\"] == \"guanajuato\"].copy()\n",
    "guanajuato.T.head()"
   ]
  },
  {
   "cell_type": "code",
   "execution_count": 4,
   "id": "75caa859-cb20-4e3c-8db5-aa8bd3a1d5ee",
   "metadata": {},
   "outputs": [
    {
     "data": {
      "text/html": [
       "<div>\n",
       "<style scoped>\n",
       "    .dataframe tbody tr th:only-of-type {\n",
       "        vertical-align: middle;\n",
       "    }\n",
       "\n",
       "    .dataframe tbody tr th {\n",
       "        vertical-align: top;\n",
       "    }\n",
       "\n",
       "    .dataframe thead th {\n",
       "        text-align: right;\n",
       "    }\n",
       "</style>\n",
       "<table border=\"1\" class=\"dataframe\">\n",
       "  <thead>\n",
       "    <tr style=\"text-align: right;\">\n",
       "      <th></th>\n",
       "      <th>year_reporte</th>\n",
       "      <th>dias_de_busqueda_reporte</th>\n",
       "      <th>dias_de_busqueda_evento</th>\n",
       "      <th>estado_localizado</th>\n",
       "    </tr>\n",
       "  </thead>\n",
       "  <tbody>\n",
       "    <tr>\n",
       "      <th>228</th>\n",
       "      <td>2011</td>\n",
       "      <td>NaT</td>\n",
       "      <td>NaT</td>\n",
       "      <td>no_especificado</td>\n",
       "    </tr>\n",
       "    <tr>\n",
       "      <th>1637</th>\n",
       "      <td>2011</td>\n",
       "      <td>300 days 08:32:00</td>\n",
       "      <td>257 days 00:00:00</td>\n",
       "      <td>queretaro</td>\n",
       "    </tr>\n",
       "    <tr>\n",
       "      <th>2332</th>\n",
       "      <td>2007</td>\n",
       "      <td>1894 days 00:00:00</td>\n",
       "      <td>1894 days 00:00:00</td>\n",
       "      <td>no_especificado</td>\n",
       "    </tr>\n",
       "    <tr>\n",
       "      <th>4012</th>\n",
       "      <td>2011</td>\n",
       "      <td>119 days 00:01:00</td>\n",
       "      <td>119 days 07:30:00</td>\n",
       "      <td>puebla</td>\n",
       "    </tr>\n",
       "    <tr>\n",
       "      <th>6950</th>\n",
       "      <td>2012</td>\n",
       "      <td>880 days 15:50:00</td>\n",
       "      <td>736 days 15:50:00</td>\n",
       "      <td>guanajuato</td>\n",
       "    </tr>\n",
       "  </tbody>\n",
       "</table>\n",
       "</div>"
      ],
      "text/plain": [
       "      year_reporte dias_de_busqueda_reporte dias_de_busqueda_evento  \\\n",
       "228           2011                      NaT                     NaT   \n",
       "1637          2011        300 days 08:32:00       257 days 00:00:00   \n",
       "2332          2007       1894 days 00:00:00      1894 days 00:00:00   \n",
       "4012          2011        119 days 00:01:00       119 days 07:30:00   \n",
       "6950          2012        880 days 15:50:00       736 days 15:50:00   \n",
       "\n",
       "     estado_localizado  \n",
       "228    no_especificado  \n",
       "1637         queretaro  \n",
       "2332   no_especificado  \n",
       "4012            puebla  \n",
       "6950        guanajuato  "
      ]
     },
     "execution_count": 4,
     "metadata": {},
     "output_type": "execute_result"
    }
   ],
   "source": [
    "guanajuato['year_reporte'] = guanajuato['fecha_reporte'].dt.year\n",
    "guanajuato[\"dias_de_busqueda_reporte\"] = guanajuato[\"fecha_de_localizacion\"] - guanajuato[\"fecha_reporte\"]\n",
    "guanajuato[\"dias_de_busqueda_evento\"] = guanajuato[\"fecha_de_localizacion\"] - guanajuato[\"fecha_evento\"]\n",
    "guanajuato.rename(columns = {\"estado_(localizado)\" : \"estado_localizado\"}, inplace = True)\n",
    "guanajuato[[\"year_reporte\", \"dias_de_busqueda_reporte\",\"dias_de_busqueda_evento\",\"estado_localizado\"]].head()"
   ]
  },
  {
   "cell_type": "code",
   "execution_count": 5,
   "id": "e4c136e0-a673-43e3-900f-5d0ef7140fba",
   "metadata": {},
   "outputs": [
    {
     "data": {
      "image/png": "[encoded data removed]",
      "text/plain": [
       "<Figure size 576x576 with 1 Axes>"
      ]
     },
     "metadata": {
      "needs_background": "light"
     },
     "output_type": "display_data"
    }
   ],
   "source": [
    "plt.figure(figsize=(8, 8))\n",
    "\n",
    "sns.set_palette(\"coolwarm\")\n",
    "sns.set_style(\"ticks\")\n",
    "sns.set_context(\"talk\")\n",
    "\n",
    "plt.ylabel('Frequency')\n",
    "plt.xlabel('Gender')\n",
    "plt.title('Distribution of gender,Guanajuato')\n",
    "\n",
    "ax = sns.histplot(guanajuato.sexo)\n",
    "ax.bar_label(ax.containers[0])\n",
    "\n",
    "plt.show()"
   ]
  },
  {
   "cell_type": "code",
   "execution_count": 6,
   "id": "a3088a8c-4f03-4923-8481-dd22ce81d7ed",
   "metadata": {},
   "outputs": [
    {
     "data": {
      "image/png": "[encoded data removed]",
      "text/plain": [
       "<Figure size 576x576 with 1 Axes>"
      ]
     },
     "metadata": {},
     "output_type": "display_data"
    }
   ],
   "source": [
    "plt.figure(figsize=(8, 8))\n",
    "\n",
    "sns.set_palette(\"coolwarm\")\n",
    "sns.set_style(\"ticks\")\n",
    "sns.set_context(\"talk\")\n",
    "\n",
    "plt.ylabel('Frequency')\n",
    "plt.xlabel('Vivo o muerto')\n",
    "plt.title('Distribution of located,Guanajuato')\n",
    "\n",
    "ax = sns.histplot(guanajuato.vivo_o_muerto)\n",
    "ax.bar_label(ax.containers[0])\n",
    "\n",
    "plt.show()"
   ]
  },
  {
   "cell_type": "code",
   "execution_count": 7,
   "id": "994d7fec-34df-4306-894a-4e6c593699a6",
   "metadata": {},
   "outputs": [
    {
     "data": {
      "text/plain": [
       "vivo                 7616\n",
       "aun_sin_localizar     102\n",
       "muerto                 32\n",
       "Name: vivo_o_muerto, dtype: int64"
      ]
     },
     "execution_count": 7,
     "metadata": {},
     "output_type": "execute_result"
    }
   ],
   "source": [
    "guanajuato[(guanajuato[\"sexo\"] == \"femenino\")].vivo_o_muerto.value_counts()"
   ]
  },
  {
   "cell_type": "code",
   "execution_count": 8,
   "id": "b26095e4-2a80-4530-ba39-d31e213733e4",
   "metadata": {},
   "outputs": [
    {
     "data": {
      "text/plain": [
       "vivo                 5217\n",
       "aun_sin_localizar     520\n",
       "muerto                237\n",
       "Name: vivo_o_muerto, dtype: int64"
      ]
     },
     "execution_count": 8,
     "metadata": {},
     "output_type": "execute_result"
    }
   ],
   "source": [
    "guanajuato[(guanajuato[\"sexo\"] == \"masculino\")].vivo_o_muerto.value_counts()"
   ]
  },
  {
   "cell_type": "code",
   "execution_count": 9,
   "id": "755d4856-d44d-48d2-b9f8-975e47160817",
   "metadata": {},
   "outputs": [
    {
     "data": {
      "text/plain": [
       "otros_causas                   3396\n",
       "problemas_en_su_casa           1701\n",
       "se_fue_con_su_novio            1233\n",
       "se_fue_de_fiesta_con_amigos     915\n",
       "padece_de_sus_facultades        327\n",
       "Name: posible_causa_desaparicion, dtype: int64"
      ]
     },
     "execution_count": 9,
     "metadata": {},
     "output_type": "execute_result"
    }
   ],
   "source": [
    "guanajuato.posible_causa_desaparicion.value_counts().head()"
   ]
  },
  {
   "cell_type": "code",
   "execution_count": 10,
   "id": "aab9659b-2000-4499-a7fd-e6f0c4876612",
   "metadata": {},
   "outputs": [
    {
     "data": {
      "text/plain": [
       "otros_causas                   1753\n",
       "problemas_en_su_casa           1174\n",
       "se_fue_con_su_novio            1135\n",
       "se_fue_de_fiesta_con_amigos     514\n",
       "se_fue_con_el_novio             190\n",
       "Name: posible_causa_desaparicion, dtype: int64"
      ]
     },
     "execution_count": 10,
     "metadata": {},
     "output_type": "execute_result"
    }
   ],
   "source": [
    "guanajuato[(guanajuato[\"sexo\"] == \"femenino\")].posible_causa_desaparicion.value_counts().head()"
   ]
  },
  {
   "cell_type": "code",
   "execution_count": 11,
   "id": "aafbb1e9-f0f1-4442-b138-1feb999d7924",
   "metadata": {},
   "outputs": [
    {
     "data": {
      "text/plain": [
       "otros_causas                       1643\n",
       "problemas_en_su_casa                527\n",
       "se_fue_de_fiesta_con_amigos         401\n",
       "padece_de_sus_facultades            239\n",
       "se_fue_a_trabajar_a_otro_estado     201\n",
       "Name: posible_causa_desaparicion, dtype: int64"
      ]
     },
     "execution_count": 11,
     "metadata": {},
     "output_type": "execute_result"
    }
   ],
   "source": [
    "guanajuato[(guanajuato[\"sexo\"] == \"masculino\")].posible_causa_desaparicion.value_counts().head()"
   ]
  },
  {
   "cell_type": "code",
   "execution_count": 12,
   "id": "d101902d-5f15-4b7a-9e63-7c7942344262",
   "metadata": {},
   "outputs": [
    {
     "data": {
      "text/plain": [
       "no    7750\n",
       "Name: relacion_con_grupos_delictivos, dtype: int64"
      ]
     },
     "execution_count": 12,
     "metadata": {},
     "output_type": "execute_result"
    }
   ],
   "source": [
    "guanajuato[(guanajuato[\"sexo\"] == \"femenino\")].relacion_con_grupos_delictivos.value_counts()"
   ]
  },
  {
   "cell_type": "code",
   "execution_count": 13,
   "id": "ce986b26-df1c-4a0c-8618-f8c1ca092b9d",
   "metadata": {},
   "outputs": [
    {
     "data": {
      "text/plain": [
       "no    5973\n",
       "si       1\n",
       "Name: relacion_con_grupos_delictivos, dtype: int64"
      ]
     },
     "execution_count": 13,
     "metadata": {},
     "output_type": "execute_result"
    }
   ],
   "source": [
    "guanajuato[(guanajuato[\"sexo\"] == \"masculino\")].relacion_con_grupos_delictivos.value_counts()"
   ]
  },
  {
   "cell_type": "code",
   "execution_count": 14,
   "id": "c6700ca1-dffc-4187-8acd-0f16e597be39",
   "metadata": {},
   "outputs": [
    {
     "data": {
      "text/plain": [
       "15.0      1341\n",
       "16.0      1162\n",
       "14.0      1148\n",
       "17.0       882\n",
       "13.0       707\n",
       "          ... \n",
       "96.0         1\n",
       "89.0         1\n",
       "2013.0       1\n",
       "100.0        1\n",
       "97.0         1\n",
       "Name: edad, Length: 101, dtype: int64"
      ]
     },
     "execution_count": 14,
     "metadata": {},
     "output_type": "execute_result"
    }
   ],
   "source": [
    "guanajuato.edad.value_counts()"
   ]
  },
  {
   "cell_type": "code",
   "execution_count": 15,
   "id": "93ed3031-fe39-4647-9bfd-d6c08f0962ef",
   "metadata": {},
   "outputs": [
    {
     "data": {
      "image/png": "[encoded data removed]",
      "text/plain": [
       "<Figure size 1800x720 with 1 Axes>"
      ]
     },
     "metadata": {},
     "output_type": "display_data"
    }
   ],
   "source": [
    "plt.figure(figsize=(25,10))\n",
    "\n",
    "sns.set_palette(\"coolwarm\")\n",
    "sns.set_style(\"ticks\")\n",
    "sns.set_context(\"talk\")\n",
    "\n",
    "\n",
    "sns.histplot(guanajuato.edad,discrete='True')\n",
    "\n",
    "plt.title('Edades de desaparicion')\n",
    "plt.xlabel('Edad')\n",
    "plt.ylabel('Frecuencia')\n",
    "\n",
    "plt.show()"
   ]
  },
  {
   "cell_type": "code",
   "execution_count": 16,
   "id": "dded6bd9-a8a2-49bb-b4b3-41426e682d88",
   "metadata": {},
   "outputs": [
    {
     "data": {
      "text/plain": [
       "no_especificado        8268\n",
       "estudiante             1972\n",
       "empleado_particular     953\n",
       "ama_de_casa             888\n",
       "desempleado             520\n",
       "                       ... \n",
       "guia_de_turistas          1\n",
       "sastre                    1\n",
       "plomero                   1\n",
       "niñera                    1\n",
       "masajista                 1\n",
       "Name: ocupacion, Length: 68, dtype: int64"
      ]
     },
     "execution_count": 16,
     "metadata": {},
     "output_type": "execute_result"
    }
   ],
   "source": [
    "guanajuato.ocupacion.value_counts()"
   ]
  },
  {
   "cell_type": "code",
   "execution_count": 17,
   "id": "c72db88a-8a62-468c-be4e-5114502d8a42",
   "metadata": {},
   "outputs": [
    {
     "data": {
      "text/plain": [
       "no_especificado        8268\n",
       "estudiante             1972\n",
       "empleado_particular     953\n",
       "ama_de_casa             888\n",
       "desempleado             520\n",
       "comerciante             215\n",
       "obrero                  142\n",
       "albañil                 136\n",
       "campesino               117\n",
       "jornalero                68\n",
       "Name: ocupacion, dtype: int64"
      ]
     },
     "execution_count": 17,
     "metadata": {},
     "output_type": "execute_result"
    }
   ],
   "source": [
    "guanajuato.ocupacion.value_counts().head(10)"
   ]
  },
  {
   "cell_type": "code",
   "execution_count": 18,
   "id": "882ef098-f3a0-4cb3-a74f-7b93bff73432",
   "metadata": {},
   "outputs": [
    {
     "data": {
      "text/plain": [
       "252"
      ]
     },
     "execution_count": 18,
     "metadata": {},
     "output_type": "execute_result"
    }
   ],
   "source": [
    "len(guanajuato[(guanajuato[\"edad\"] == 0.0)])"
   ]
  },
  {
   "cell_type": "markdown",
   "id": "b083f80b-3c45-46dd-8321-a5d13726f12e",
   "metadata": {},
   "source": [
    "## Personas de 15 años"
   ]
  },
  {
   "cell_type": "code",
   "execution_count": 19,
   "id": "72f6bafc-6d01-4cd4-b660-2e7dba3ad1cd",
   "metadata": {},
   "outputs": [
    {
     "data": {
      "text/plain": [
       "femenino     1088\n",
       "masculino     253\n",
       "Name: sexo, dtype: int64"
      ]
     },
     "execution_count": 19,
     "metadata": {},
     "output_type": "execute_result"
    }
   ],
   "source": [
    "guanajuato[(guanajuato[\"edad\"] == 15)].sexo.value_counts()"
   ]
  },
  {
   "cell_type": "code",
   "execution_count": 20,
   "id": "8a915f48-3289-4550-960d-ab104b4e77b6",
   "metadata": {},
   "outputs": [
    {
     "data": {
      "image/png": "[encoded data removed]",
      "text/plain": [
       "<Figure size 720x720 with 1 Axes>"
      ]
     },
     "metadata": {},
     "output_type": "display_data"
    }
   ],
   "source": [
    "plt.figure(figsize=(10,10))\n",
    "\n",
    "sns.set_palette(\"coolwarm\")\n",
    "sns.set_style(\"ticks\")\n",
    "sns.set_context(\"talk\")\n",
    "\n",
    "\n",
    "sns.histplot(guanajuato[(guanajuato[\"edad\"] == 15)].sexo,discrete='True')\n",
    "\n",
    "plt.title('Distribución 15 años, genero')\n",
    "plt.xlabel('Genero')\n",
    "plt.ylabel('Frecuencia')\n",
    "\n",
    "plt.show()"
   ]
  },
  {
   "cell_type": "code",
   "execution_count": 21,
   "id": "bcd64a4c-bbd6-410e-8bcf-709b72f2159d",
   "metadata": {},
   "outputs": [
    {
     "data": {
      "text/plain": [
       "vivo                 1078\n",
       "aun_sin_localizar       9\n",
       "muerto                  1\n",
       "Name: vivo_o_muerto, dtype: int64"
      ]
     },
     "execution_count": 21,
     "metadata": {},
     "output_type": "execute_result"
    }
   ],
   "source": [
    "guanajuato[(guanajuato[\"edad\"] == 15) & (guanajuato[\"sexo\"] == \"femenino\")].vivo_o_muerto.value_counts()"
   ]
  },
  {
   "cell_type": "code",
   "execution_count": 22,
   "id": "1c739c51-84f6-4828-9b14-86d0182d184a",
   "metadata": {},
   "outputs": [
    {
     "data": {
      "text/plain": [
       "vivo                 246\n",
       "aun_sin_localizar      6\n",
       "muerto                 1\n",
       "Name: vivo_o_muerto, dtype: int64"
      ]
     },
     "execution_count": 22,
     "metadata": {},
     "output_type": "execute_result"
    }
   ],
   "source": [
    "guanajuato[(guanajuato[\"edad\"] == 15) & (guanajuato[\"sexo\"] == \"masculino\")].vivo_o_muerto.value_counts()"
   ]
  },
  {
   "cell_type": "code",
   "execution_count": 23,
   "id": "419d8c98-ddc1-456c-bed4-b2d935ea64d1",
   "metadata": {},
   "outputs": [
    {
     "data": {
      "image/png": "[encoded data removed]",
      "text/plain": [
       "<Figure size 432x288 with 1 Axes>"
      ]
     },
     "metadata": {},
     "output_type": "display_data"
    }
   ],
   "source": [
    "labels = ['vivos', 'muertos', 'no localizados']\n",
    "men_means = [ 246,1,6]\n",
    "women_means = [1078, 1, 9]\n",
    "\n",
    "\n",
    "x = np.arange(len(labels))  # the label locations\n",
    "width = 0.35  # the width of the bars\n",
    "fig, ax = plt.subplots()\n",
    "rects1 = ax.bar(x - width/2, men_means, width, label='Masculino')\n",
    "rects2 = ax.bar(x + width/2, women_means, width, label='Femenino')\n",
    "\n",
    "# Add some text for labels, title and custom x-axis tick labels, etc.\n",
    "ax.set_ylabel('Frequency')\n",
    "ax.set_title('Guanajuato, 15 años, sexo x status')\n",
    "ax.set_xticks(x)\n",
    "ax.set_xticklabels(labels)\n",
    "ax.legend()\n",
    "\n",
    "\n",
    "def autolabel(rects):\n",
    "    \"\"\"Attach a text label above each bar in *rects*, displaying its height.\"\"\"\n",
    "    for rect in rects:\n",
    "        height = rect.get_height()\n",
    "        ax.annotate('{}'.format(height),\n",
    "                    xy=(rect.get_x() + rect.get_width() / 2, height),\n",
    "                    xytext=(0, 3),  # 3 points vertical offset\n",
    "                    textcoords=\"offset points\",\n",
    "                    ha='center', va='bottom')\n",
    "\n",
    "\n",
    "autolabel(rects1)\n",
    "autolabel(rects2)\n",
    "\n",
    "fig.tight_layout()\n",
    "\n",
    "plt.show()"
   ]
  },
  {
   "cell_type": "code",
   "execution_count": 24,
   "id": "1b862880-38bd-4cdd-912a-2eeb17ee4f8e",
   "metadata": {},
   "outputs": [
    {
     "data": {
      "text/plain": [
       "se_fue_con_su_novio                                                                                               234\n",
       "otros_causas                                                                                                      228\n",
       "problemas_en_su_casa                                                                                              172\n",
       "se_fue_de_fiesta_con_amigos                                                                                       110\n",
       "se_fue_con_el_novio                                                                                                32\n",
       "                                                                                                                 ... \n",
       "pelea_en_su_casa                                                                                                    1\n",
       "se_la_llevo_su_novio_a_la_ciudad_de_irapuato                                                                        1\n",
       "se_fue_con_sus_amigos                                                                                               1\n",
       "se_fue_a_la_casa_de_su_tia_porke_se_le_hizo_tarde_y_le_dio_miedo_llegar_a_la_casa_porke_su_mama_le_iba_a_pegar      1\n",
       "problemas_en_casa                                                                                                   1\n",
       "Name: posible_causa_desaparicion, Length: 209, dtype: int64"
      ]
     },
     "execution_count": 24,
     "metadata": {},
     "output_type": "execute_result"
    }
   ],
   "source": [
    "guanajuato[(guanajuato[\"edad\"] == 15) & (guanajuato[\"sexo\"] == \"femenino\")].posible_causa_desaparicion.value_counts()"
   ]
  },
  {
   "cell_type": "code",
   "execution_count": 25,
   "id": "e136c01f-8ec3-4097-aefb-97719e788a25",
   "metadata": {},
   "outputs": [
    {
     "data": {
      "text/plain": [
       "otros_causas                   54\n",
       "problemas_en_su_casa           43\n",
       "se_fue_de_fiesta_con_amigos    32\n",
       "se_fue_con_su_novio            23\n",
       "se_desconoce                    8\n",
       "                               ..\n",
       "no_avisootros_causas            1\n",
       "se_perdiootros_causas           1\n",
       "se_fue_a_otra_ciudad            1\n",
       "tuvo_problemas_con_su_mamá      1\n",
       "se_peleo_con_su_hijo            1\n",
       "Name: posible_causa_desaparicion, Length: 74, dtype: int64"
      ]
     },
     "execution_count": 25,
     "metadata": {},
     "output_type": "execute_result"
    }
   ],
   "source": [
    "guanajuato[(guanajuato[\"edad\"] == 15) & (guanajuato[\"sexo\"] == \"masculino\")].posible_causa_desaparicion.value_counts()"
   ]
  },
  {
   "cell_type": "code",
   "execution_count": 26,
   "id": "40e5fc72-c12e-4e76-92c6-9ba5c43586cf",
   "metadata": {},
   "outputs": [
    {
     "data": {
      "text/plain": [
       "no_especificado        805\n",
       "estudiante             339\n",
       "ama_de_casa             90\n",
       "empleado_particular     50\n",
       "desempleado             41\n",
       "obrero                   5\n",
       "comerciante              2\n",
       "campesino                2\n",
       "cargador                 1\n",
       "quimico                  1\n",
       "albañil                  1\n",
       "Name: ocupacion, dtype: int64"
      ]
     },
     "execution_count": 26,
     "metadata": {},
     "output_type": "execute_result"
    }
   ],
   "source": [
    "guanajuato[(guanajuato[\"edad\"]==15)].ocupacion.value_counts()"
   ]
  },
  {
   "cell_type": "code",
   "execution_count": 27,
   "id": "3740bd8d-05bb-48a6-b852-1addd0368879",
   "metadata": {},
   "outputs": [
    {
     "data": {
      "text/plain": [
       "guanajuato          860\n",
       "no_especificado     185\n",
       "queretaro             5\n",
       "veracruz              4\n",
       "jalisco               4\n",
       "guerrero              3\n",
       "estado_de_mexico      2\n",
       "puebla                2\n",
       "michoacan             2\n",
       "distrito_federal      2\n",
       "morelos               1\n",
       "yucatan               1\n",
       "colima                1\n",
       "baja_california       1\n",
       "tamaulipas            1\n",
       "hidalgo               1\n",
       "nuevo_leon            1\n",
       "sonora                1\n",
       "sinaloa               1\n",
       "Name: estado_localizado, dtype: int64"
      ]
     },
     "execution_count": 27,
     "metadata": {},
     "output_type": "execute_result"
    }
   ],
   "source": [
    "guanajuato[(guanajuato[\"edad\"] == 15 ) & (guanajuato[\"sexo\"]== \"femenino\") & (guanajuato[\"vivo_o_muerto\"] == \"vivo\")].estado_localizado.value_counts()"
   ]
  },
  {
   "cell_type": "code",
   "execution_count": 28,
   "id": "5bb71887-370f-4927-9153-1509324753ac",
   "metadata": {},
   "outputs": [
    {
     "data": {
      "text/plain": [
       "guanajuato          195\n",
       "no_especificado      38\n",
       "michoacan             3\n",
       "queretaro             3\n",
       "jalisco               3\n",
       "baja_california       1\n",
       "puebla                1\n",
       "distrito_federal      1\n",
       "estado_de_mexico      1\n",
       "Name: estado_localizado, dtype: int64"
      ]
     },
     "execution_count": 28,
     "metadata": {},
     "output_type": "execute_result"
    }
   ],
   "source": [
    "guanajuato[(guanajuato[\"edad\"] == 15 ) & (guanajuato[\"sexo\"]== \"masculino\") & (guanajuato[\"vivo_o_muerto\"] == \"vivo\")].estado_localizado.value_counts()"
   ]
  },
  {
   "cell_type": "code",
   "execution_count": 29,
   "id": "be6d4160-95c0-4cc8-8c30-15394cca184a",
   "metadata": {},
   "outputs": [
    {
     "data": {
      "text/plain": [
       "2015    258\n",
       "2014    238\n",
       "2013    173\n",
       "2012    116\n",
       "2007    116\n",
       "2011    112\n",
       "2008     90\n",
       "2009     89\n",
       "2016     73\n",
       "2010     41\n",
       "2017     21\n",
       "2006     14\n",
       "Name: year_reporte, dtype: int64"
      ]
     },
     "execution_count": 29,
     "metadata": {},
     "output_type": "execute_result"
    }
   ],
   "source": [
    "guanajuato[(guanajuato[\"edad\"] == 15)].year_reporte.value_counts()"
   ]
  },
  {
   "cell_type": "code",
   "execution_count": 30,
   "id": "bdd568ac-9b16-4192-b5f7-1781924e765e",
   "metadata": {},
   "outputs": [
    {
     "data": {
      "text/plain": [
       "count                           1335\n",
       "mean       0 days 17:49:36.792509363\n",
       "std      571 days 23:49:13.438841048\n",
       "min             -6530 days +04:30:00\n",
       "25%                  0 days 04:00:00\n",
       "50%                  2 days 04:49:00\n",
       "75%                 31 days 07:00:00\n",
       "max               2913 days 08:00:00\n",
       "Name: dias_de_busqueda_reporte, dtype: object"
      ]
     },
     "execution_count": 30,
     "metadata": {},
     "output_type": "execute_result"
    }
   ],
   "source": [
    "guanajuato[(guanajuato[\"edad\"] == 15)].dias_de_busqueda_reporte.describe()"
   ]
  },
  {
   "cell_type": "code",
   "execution_count": 31,
   "id": "ed74bda1-3efc-4880-b77a-81026c5c9542",
   "metadata": {},
   "outputs": [
    {
     "data": {
      "image/png": "[encoded data removed]",
      "text/plain": [
       "<Figure size 1440x720 with 1 Axes>"
      ]
     },
     "metadata": {},
     "output_type": "display_data"
    }
   ],
   "source": [
    "plt.figure(figsize=(20,10))\n",
    "\n",
    "sns.set_style(\"ticks\")\n",
    "sns.set_context(\"talk\")\n",
    "\n",
    "sns.histplot(guanajuato[(guanajuato[\"vivo_o_muerto\"] == \"aun_sin_localizar\" ) & (guanajuato[\"edad\"] == 15)].year_reporte, label='No_localizados', alpha=0.5,linewidth=.8,discrete=\"true\",color=\"#fe218b\")\n",
    "sns.histplot(guanajuato[(guanajuato[\"vivo_o_muerto\"] == \"vivo\" ) & (guanajuato[\"edad\"] == 15)].year_reporte,label='Vivos', alpha=0.5,linewidth=.8,discrete=\"true\",color=\"#fed700\")\n",
    "sns.histplot(guanajuato[(guanajuato[\"vivo_o_muerto\"] == \"muerto\" ) & (guanajuato[\"edad\"] == 15)].year_reporte, label='Muertos', alpha=0.8,linewidth=.8,discrete=\"true\", color=\"#21b0fe\")\n",
    "\n",
    "plt.legend()\n",
    "\n",
    "plt.ylabel('Frequency')\n",
    "plt.xlabel('Year')\n",
    "plt.title('Situacion por año, individuos de 15 años')\n",
    "\n",
    "plt.show()"
   ]
  }
 ],
 "metadata": {
  "kernelspec": {
   "display_name": "Python 3 (ipykernel)",
   "language": "python",
   "name": "python3"
  },
  "language_info": {
   "codemirror_mode": {
    "name": "ipython",
    "version": 3
   },
   "file_extension": ".py",
   "mimetype": "text/x-python",
   "name": "python",
   "nbconvert_exporter": "python",
   "pygments_lexer": "ipython3",
   "version": "3.9.13"
  }
 },
 "nbformat": 4,
 "nbformat_minor": 5
}
